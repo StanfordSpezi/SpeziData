{
 "cells": [
  {
   "cell_type": "markdown",
   "id": "1b4070c1-59f7-474e-8ea1-156cd42ef811",
   "metadata": {},
   "source": [
    "## Import modules\n"
   ]
  },
  {
   "cell_type": "code",
   "execution_count": 1,
   "id": "3da82a85-6035-4757-a666-e56b5f270513",
   "metadata": {},
   "outputs": [],
   "source": [
    "from spezi_data_pipeline.data_access.firebase_fhir_data_access import FirebaseFHIRAccess\n",
    "from spezi_data_pipeline.data_flattening.fhir_resources_flattener import flatten_fhir_resources, FHIRDataFrame\n",
    "from spezi_data_pipeline.data_processing.data_processor import FHIRDataProcessor\n",
    "from spezi_data_pipeline.data_processing.observation_processor import calculate_activity_index\n",
    "from spezi_data_pipeline.data_exploration.data_explorer import DataExplorer, visualizer_factory, explore_total_records_number\n",
    "from spezi_data_pipeline.data_export.data_exporter import DataExporter"
   ]
  },
  {
   "cell_type": "markdown",
   "id": "c3623d09-656a-4abe-a4b9-a433ec86a91c",
   "metadata": {},
   "source": [
    "## Define credential files"
   ]
  },
  {
   "cell_type": "code",
   "execution_count": 2,
   "id": "e844a4e1-1d9e-4c4a-a6a5-46da5b08f17c",
   "metadata": {
    "tags": []
   },
   "outputs": [],
   "source": [
    "# Define your Firebase project ID\n",
    "project_id = \"spezi-data-pipeline\"  # Replace with your Firebase project ID\n",
    "project_id = \"stanfordspezitemplateapp\"\n",
    "\n",
    "# Define the service account key file\n",
    "service_account_key_file = \"path_to_service_account_key_file.json\"  # Replace with your service account key file\n",
    "service_account_key_file = \"stanfordspezitemplateapp-firebase-adminsdk-thsmt-e0948f0fa1.json\"\n",
    "\n",
    "# Define the collection name where your FHIR observations are stored and the input code if filtering is needed\n",
    "collection_name = \"users\"\n",
    "subcollection_name = \"QuestionnaireResponse\"\n",
    "\n",
    "# Define the survey path(s) for creating survey mappings\n",
    "survey_path = [\"SocialSupportQuestionnaire.json\"]                "
   ]
  },
  {
   "cell_type": "markdown",
   "id": "dee3e7e7-e273-4367-b36b-6a9148ad898f",
   "metadata": {},
   "source": [
    "## Initialize the FirebaseFHIRAccess class using your Firebase credentials"
   ]
  },
  {
   "cell_type": "code",
   "execution_count": 3,
   "id": "62b89662-db30-4976-8ecf-da907b0721ba",
   "metadata": {},
   "outputs": [
    {
     "name": "stdout",
     "output_type": "stream",
     "text": [
      "<class 'spezi_data_pipeline.data_flattening.fhir_resources_flattener.QuestionnaireResponseFlattener'>\n"
     ]
    }
   ],
   "source": [
    "# Initialize the FirebaseFHIRAccess class using your Firebase credentials\n",
    "firebase_access = FirebaseFHIRAccess(project_id, service_account_key_file)\n",
    "firebase_access.connect()\n",
    "\n",
    "fhir_observations = firebase_access.fetch_data(collection_name, subcollection_name)\n",
    "\n",
    "flattened_fhir_dataframe = flatten_fhir_resources(fhir_observations, survey_path)"
   ]
  },
  {
   "cell_type": "code",
   "execution_count": 18,
   "id": "5cc9d94f-2fa4-493a-ad04-6e2de1ff1847",
   "metadata": {},
   "outputs": [],
   "source": [
    "# fhir_observations[0].identifier = {\"id\": \"3\"}"
   ]
  },
  {
   "cell_type": "code",
   "execution_count": 6,
   "id": "9b0c2863-3c64-447b-a066-0a1763a50c66",
   "metadata": {},
   "outputs": [
    {
     "data": {
      "text/plain": [
       "'019A9013-F8D9-4E9F-B17B-6790EFD29D4C'"
      ]
     },
     "execution_count": 6,
     "metadata": {},
     "output_type": "execute_result"
    }
   ],
   "source": [
    "fhir_observations[0].identifier.id"
   ]
  },
  {
   "cell_type": "code",
   "execution_count": 6,
   "id": "89086d79-e535-4635-9264-4f863404da2c",
   "metadata": {},
   "outputs": [],
   "source": [
    "# docs = firebase_access.collection(\"users\").document(\"2VFMFZpWmpNUGUJrDIa7gooJRD12\").collection(\"QuestionnaireResponse\").stream()"
   ]
  },
  {
   "cell_type": "code",
   "execution_count": 5,
   "id": "495b1d17-6414-4718-870a-2f12d6c9c5b8",
   "metadata": {},
   "outputs": [
    {
     "data": {
      "text/html": [
       "<div>\n",
       "<style scoped>\n",
       "    .dataframe tbody tr th:only-of-type {\n",
       "        vertical-align: middle;\n",
       "    }\n",
       "\n",
       "    .dataframe tbody tr th {\n",
       "        vertical-align: top;\n",
       "    }\n",
       "\n",
       "    .dataframe thead th {\n",
       "        text-align: right;\n",
       "    }\n",
       "</style>\n",
       "<table border=\"1\" class=\"dataframe\">\n",
       "  <thead>\n",
       "    <tr style=\"text-align: right;\">\n",
       "      <th></th>\n",
       "      <th>UserId</th>\n",
       "      <th>SurveyTitle</th>\n",
       "      <th>SurveyID</th>\n",
       "      <th>QuestionID</th>\n",
       "      <th>QuestionText</th>\n",
       "      <th>AnswerText</th>\n",
       "    </tr>\n",
       "  </thead>\n",
       "  <tbody>\n",
       "    <tr>\n",
       "      <th>0</th>\n",
       "      <td>2VFMFZpWmpNUGUJrDIa7gooJRD12</td>\n",
       "      <td>Social Support</td>\n",
       "      <td>37DD265A-B9E8-45FA-87E2-50A132AAEA20</td>\n",
       "      <td>dcea2683-9815-4505-b240-e75b502b29ef</td>\n",
       "      <td>How often do you need someone to help you if y...</td>\n",
       "      <td>Most of the time</td>\n",
       "    </tr>\n",
       "    <tr>\n",
       "      <th>1</th>\n",
       "      <td>2VFMFZpWmpNUGUJrDIa7gooJRD12</td>\n",
       "      <td>Social Support</td>\n",
       "      <td>37DD265A-B9E8-45FA-87E2-50A132AAEA20</td>\n",
       "      <td>ce09d701-7b93-4150-defb-51825e05ade9</td>\n",
       "      <td>How often do you need someone to take you to t...</td>\n",
       "      <td>Most of the time</td>\n",
       "    </tr>\n",
       "    <tr>\n",
       "      <th>2</th>\n",
       "      <td>2VFMFZpWmpNUGUJrDIa7gooJRD12</td>\n",
       "      <td>Social Support</td>\n",
       "      <td>37DD265A-B9E8-45FA-87E2-50A132AAEA20</td>\n",
       "      <td>58e97564-5f4d-4d4b-86d5-6429cbbc7a8e</td>\n",
       "      <td>How often do you need someone to prepare your ...</td>\n",
       "      <td>Most of the time</td>\n",
       "    </tr>\n",
       "    <tr>\n",
       "      <th>3</th>\n",
       "      <td>2VFMFZpWmpNUGUJrDIa7gooJRD12</td>\n",
       "      <td>Social Support</td>\n",
       "      <td>37DD265A-B9E8-45FA-87E2-50A132AAEA20</td>\n",
       "      <td>ad161c49-e8a6-4d31-90e8-02b2887a765f</td>\n",
       "      <td>How often do you need someone to help with dai...</td>\n",
       "      <td>Some of the time</td>\n",
       "    </tr>\n",
       "    <tr>\n",
       "      <th>4</th>\n",
       "      <td>2VFMFZpWmpNUGUJrDIa7gooJRD12</td>\n",
       "      <td>Social Support</td>\n",
       "      <td>37DD265A-B9E8-45FA-87E2-50A132AAEA20</td>\n",
       "      <td>ba518851-2843-4bbd-c0f7-5b5692d542e0</td>\n",
       "      <td>What is your age?</td>\n",
       "      <td>65</td>\n",
       "    </tr>\n",
       "  </tbody>\n",
       "</table>\n",
       "</div>"
      ],
      "text/plain": [
       "                         UserId     SurveyTitle  \\\n",
       "0  2VFMFZpWmpNUGUJrDIa7gooJRD12  Social Support   \n",
       "1  2VFMFZpWmpNUGUJrDIa7gooJRD12  Social Support   \n",
       "2  2VFMFZpWmpNUGUJrDIa7gooJRD12  Social Support   \n",
       "3  2VFMFZpWmpNUGUJrDIa7gooJRD12  Social Support   \n",
       "4  2VFMFZpWmpNUGUJrDIa7gooJRD12  Social Support   \n",
       "\n",
       "                               SurveyID                            QuestionID  \\\n",
       "0  37DD265A-B9E8-45FA-87E2-50A132AAEA20  dcea2683-9815-4505-b240-e75b502b29ef   \n",
       "1  37DD265A-B9E8-45FA-87E2-50A132AAEA20  ce09d701-7b93-4150-defb-51825e05ade9   \n",
       "2  37DD265A-B9E8-45FA-87E2-50A132AAEA20  58e97564-5f4d-4d4b-86d5-6429cbbc7a8e   \n",
       "3  37DD265A-B9E8-45FA-87E2-50A132AAEA20  ad161c49-e8a6-4d31-90e8-02b2887a765f   \n",
       "4  37DD265A-B9E8-45FA-87E2-50A132AAEA20  ba518851-2843-4bbd-c0f7-5b5692d542e0   \n",
       "\n",
       "                                        QuestionText        AnswerText  \n",
       "0  How often do you need someone to help you if y...  Most of the time  \n",
       "1  How often do you need someone to take you to t...  Most of the time  \n",
       "2  How often do you need someone to prepare your ...  Most of the time  \n",
       "3  How often do you need someone to help with dai...  Some of the time  \n",
       "4                                  What is your age?                65  "
      ]
     },
     "execution_count": 5,
     "metadata": {},
     "output_type": "execute_result"
    }
   ],
   "source": [
    "flattened_fhir_dataframe.df.head()"
   ]
  },
  {
   "cell_type": "markdown",
   "id": "01210300-19f1-4cd6-a820-9864928d2b90",
   "metadata": {},
   "source": [
    "## Explore the number of recordings in the database by LOINC code  "
   ]
  },
  {
   "cell_type": "code",
   "execution_count": 14,
   "id": "9de99b98-4b1d-4b35-8e0c-79925b830f60",
   "metadata": {},
   "outputs": [
    {
     "ename": "KeyError",
     "evalue": "'EffectiveDateTime'",
     "output_type": "error",
     "traceback": [
      "\u001b[0;31m---------------------------------------------------------------------------\u001b[0m",
      "\u001b[0;31mKeyError\u001b[0m                                  Traceback (most recent call last)",
      "File \u001b[0;32m/opt/anaconda3/envs/tf/lib/python3.10/site-packages/pandas/core/indexes/base.py:3802\u001b[0m, in \u001b[0;36mIndex.get_loc\u001b[0;34m(self, key, method, tolerance)\u001b[0m\n\u001b[1;32m   3801\u001b[0m \u001b[38;5;28;01mtry\u001b[39;00m:\n\u001b[0;32m-> 3802\u001b[0m     \u001b[38;5;28;01mreturn\u001b[39;00m \u001b[38;5;28;43mself\u001b[39;49m\u001b[38;5;241;43m.\u001b[39;49m\u001b[43m_engine\u001b[49m\u001b[38;5;241;43m.\u001b[39;49m\u001b[43mget_loc\u001b[49m\u001b[43m(\u001b[49m\u001b[43mcasted_key\u001b[49m\u001b[43m)\u001b[49m\n\u001b[1;32m   3803\u001b[0m \u001b[38;5;28;01mexcept\u001b[39;00m \u001b[38;5;167;01mKeyError\u001b[39;00m \u001b[38;5;28;01mas\u001b[39;00m err:\n",
      "File \u001b[0;32m/opt/anaconda3/envs/tf/lib/python3.10/site-packages/pandas/_libs/index.pyx:138\u001b[0m, in \u001b[0;36mpandas._libs.index.IndexEngine.get_loc\u001b[0;34m()\u001b[0m\n",
      "File \u001b[0;32m/opt/anaconda3/envs/tf/lib/python3.10/site-packages/pandas/_libs/index.pyx:165\u001b[0m, in \u001b[0;36mpandas._libs.index.IndexEngine.get_loc\u001b[0;34m()\u001b[0m\n",
      "File \u001b[0;32mpandas/_libs/hashtable_class_helper.pxi:5745\u001b[0m, in \u001b[0;36mpandas._libs.hashtable.PyObjectHashTable.get_item\u001b[0;34m()\u001b[0m\n",
      "File \u001b[0;32mpandas/_libs/hashtable_class_helper.pxi:5753\u001b[0m, in \u001b[0;36mpandas._libs.hashtable.PyObjectHashTable.get_item\u001b[0;34m()\u001b[0m\n",
      "\u001b[0;31mKeyError\u001b[0m: 'EffectiveDateTime'",
      "\nThe above exception was the direct cause of the following exception:\n",
      "\u001b[0;31mKeyError\u001b[0m                                  Traceback (most recent call last)",
      "Cell \u001b[0;32mIn[14], line 1\u001b[0m\n\u001b[0;32m----> 1\u001b[0m \u001b[43mexplore_total_records_number\u001b[49m\u001b[43m(\u001b[49m\u001b[43mflattened_fhir_dataframe\u001b[49m\u001b[38;5;241;43m.\u001b[39;49m\u001b[43mdf\u001b[49m\u001b[43m)\u001b[49m\n",
      "File \u001b[0;32m/opt/anaconda3/envs/tf/lib/python3.10/site-packages/spezi_data_pipeline/data_exploration/data_explorer.py:587\u001b[0m, in \u001b[0;36mexplore_total_records_number\u001b[0;34m(df, start_date, end_date, user_ids)\u001b[0m\n\u001b[1;32m    562\u001b[0m \u001b[38;5;28;01mdef\u001b[39;00m \u001b[38;5;21mexplore_total_records_number\u001b[39m(  \u001b[38;5;66;03m# pylint: disable=unused-variable\u001b[39;00m\n\u001b[1;32m    563\u001b[0m     df: pd\u001b[38;5;241m.\u001b[39mDataFrame,\n\u001b[1;32m    564\u001b[0m     start_date: \u001b[38;5;28mstr\u001b[39m \u001b[38;5;241m=\u001b[39m \u001b[38;5;28;01mNone\u001b[39;00m,\n\u001b[1;32m    565\u001b[0m     end_date: \u001b[38;5;28mstr\u001b[39m \u001b[38;5;241m=\u001b[39m \u001b[38;5;28;01mNone\u001b[39;00m,\n\u001b[1;32m    566\u001b[0m     user_ids: \u001b[38;5;28mstr\u001b[39m \u001b[38;5;241m|\u001b[39m \u001b[38;5;28mlist\u001b[39m \u001b[38;5;241m=\u001b[39m \u001b[38;5;28;01mNone\u001b[39;00m,\n\u001b[1;32m    567\u001b[0m ) \u001b[38;5;241m-\u001b[39m\u001b[38;5;241m>\u001b[39m \u001b[38;5;28;01mNone\u001b[39;00m:\n\u001b[1;32m    568\u001b[0m \u001b[38;5;250m    \u001b[39m\u001b[38;5;124;03m\"\"\"\u001b[39;00m\n\u001b[1;32m    569\u001b[0m \u001b[38;5;124;03m    Create a bar plot showing the count of rows with the same LoincCode column value\u001b[39;00m\n\u001b[1;32m    570\u001b[0m \u001b[38;5;124;03m    within the specified date range and for the specified user IDs. If start_date or\u001b[39;00m\n\u001b[0;32m   (...)\u001b[0m\n\u001b[1;32m    584\u001b[0m \u001b[38;5;124;03m    - None\u001b[39;00m\n\u001b[1;32m    585\u001b[0m \u001b[38;5;124;03m    \"\"\"\u001b[39;00m\n\u001b[0;32m--> 587\u001b[0m     df[\u001b[38;5;124m\"\u001b[39m\u001b[38;5;124mEffectiveDateTime\u001b[39m\u001b[38;5;124m\"\u001b[39m] \u001b[38;5;241m=\u001b[39m pd\u001b[38;5;241m.\u001b[39mto_datetime(\u001b[43mdf\u001b[49m\u001b[43m[\u001b[49m\u001b[38;5;124;43m\"\u001b[39;49m\u001b[38;5;124;43mEffectiveDateTime\u001b[39;49m\u001b[38;5;124;43m\"\u001b[39;49m\u001b[43m]\u001b[49m)\n\u001b[1;32m    589\u001b[0m     \u001b[38;5;28;01mif\u001b[39;00m start_date \u001b[38;5;129;01mis\u001b[39;00m \u001b[38;5;129;01mnot\u001b[39;00m \u001b[38;5;28;01mNone\u001b[39;00m \u001b[38;5;129;01mand\u001b[39;00m end_date \u001b[38;5;129;01mis\u001b[39;00m \u001b[38;5;129;01mnot\u001b[39;00m \u001b[38;5;28;01mNone\u001b[39;00m:\n\u001b[1;32m    590\u001b[0m         df \u001b[38;5;241m=\u001b[39m df[\n\u001b[1;32m    591\u001b[0m             (df[\u001b[38;5;124m\"\u001b[39m\u001b[38;5;124mEffectiveDateTime\u001b[39m\u001b[38;5;124m\"\u001b[39m] \u001b[38;5;241m>\u001b[39m\u001b[38;5;241m=\u001b[39m start_date)\n\u001b[1;32m    592\u001b[0m             \u001b[38;5;241m&\u001b[39m (df[\u001b[38;5;124m\"\u001b[39m\u001b[38;5;124mEffectiveDateTime\u001b[39m\u001b[38;5;124m\"\u001b[39m] \u001b[38;5;241m<\u001b[39m\u001b[38;5;241m=\u001b[39m end_date)\n\u001b[1;32m    593\u001b[0m         ]\n",
      "File \u001b[0;32m/opt/anaconda3/envs/tf/lib/python3.10/site-packages/pandas/core/frame.py:3807\u001b[0m, in \u001b[0;36mDataFrame.__getitem__\u001b[0;34m(self, key)\u001b[0m\n\u001b[1;32m   3805\u001b[0m \u001b[38;5;28;01mif\u001b[39;00m \u001b[38;5;28mself\u001b[39m\u001b[38;5;241m.\u001b[39mcolumns\u001b[38;5;241m.\u001b[39mnlevels \u001b[38;5;241m>\u001b[39m \u001b[38;5;241m1\u001b[39m:\n\u001b[1;32m   3806\u001b[0m     \u001b[38;5;28;01mreturn\u001b[39;00m \u001b[38;5;28mself\u001b[39m\u001b[38;5;241m.\u001b[39m_getitem_multilevel(key)\n\u001b[0;32m-> 3807\u001b[0m indexer \u001b[38;5;241m=\u001b[39m \u001b[38;5;28;43mself\u001b[39;49m\u001b[38;5;241;43m.\u001b[39;49m\u001b[43mcolumns\u001b[49m\u001b[38;5;241;43m.\u001b[39;49m\u001b[43mget_loc\u001b[49m\u001b[43m(\u001b[49m\u001b[43mkey\u001b[49m\u001b[43m)\u001b[49m\n\u001b[1;32m   3808\u001b[0m \u001b[38;5;28;01mif\u001b[39;00m is_integer(indexer):\n\u001b[1;32m   3809\u001b[0m     indexer \u001b[38;5;241m=\u001b[39m [indexer]\n",
      "File \u001b[0;32m/opt/anaconda3/envs/tf/lib/python3.10/site-packages/pandas/core/indexes/base.py:3804\u001b[0m, in \u001b[0;36mIndex.get_loc\u001b[0;34m(self, key, method, tolerance)\u001b[0m\n\u001b[1;32m   3802\u001b[0m     \u001b[38;5;28;01mreturn\u001b[39;00m \u001b[38;5;28mself\u001b[39m\u001b[38;5;241m.\u001b[39m_engine\u001b[38;5;241m.\u001b[39mget_loc(casted_key)\n\u001b[1;32m   3803\u001b[0m \u001b[38;5;28;01mexcept\u001b[39;00m \u001b[38;5;167;01mKeyError\u001b[39;00m \u001b[38;5;28;01mas\u001b[39;00m err:\n\u001b[0;32m-> 3804\u001b[0m     \u001b[38;5;28;01mraise\u001b[39;00m \u001b[38;5;167;01mKeyError\u001b[39;00m(key) \u001b[38;5;28;01mfrom\u001b[39;00m \u001b[38;5;21;01merr\u001b[39;00m\n\u001b[1;32m   3805\u001b[0m \u001b[38;5;28;01mexcept\u001b[39;00m \u001b[38;5;167;01mTypeError\u001b[39;00m:\n\u001b[1;32m   3806\u001b[0m     \u001b[38;5;66;03m# If we have a listlike key, _check_indexing_error will raise\u001b[39;00m\n\u001b[1;32m   3807\u001b[0m     \u001b[38;5;66;03m#  InvalidIndexError. Otherwise we fall through and re-raise\u001b[39;00m\n\u001b[1;32m   3808\u001b[0m     \u001b[38;5;66;03m#  the TypeError.\u001b[39;00m\n\u001b[1;32m   3809\u001b[0m     \u001b[38;5;28mself\u001b[39m\u001b[38;5;241m.\u001b[39m_check_indexing_error(key)\n",
      "\u001b[0;31mKeyError\u001b[0m: 'EffectiveDateTime'"
     ]
    }
   ],
   "source": [
    "explore_total_records_number(flattened_fhir_dataframe.df)"
   ]
  },
  {
   "cell_type": "markdown",
   "id": "43616584-8c5d-4580-baaa-59f25e5f334f",
   "metadata": {},
   "source": [
    "## Apply basic processing for convenient data readability"
   ]
  },
  {
   "cell_type": "code",
   "execution_count": null,
   "id": "2d878a15-3382-4952-83d2-0507fcff471a",
   "metadata": {},
   "outputs": [],
   "source": [
    "processed_fhir_dataframe = FHIRDataProcessor().process_fhir_data(flattened_fhir_dataframe)\n",
    "processed_fhir_dataframe.df.head()"
   ]
  },
  {
   "cell_type": "markdown",
   "id": "6e91ed96-c86e-4486-ab28-ef55fdd1947e",
   "metadata": {},
   "source": [
    "## Explore Data"
   ]
  },
  {
   "cell_type": "markdown",
   "id": "f8ddd7a7-25a2-40e1-ac34-c6de3adeb204",
   "metadata": {},
   "source": [
    "### HealthKit Quantity Example"
   ]
  },
  {
   "cell_type": "code",
   "execution_count": null,
   "id": "5a09ab04-4c93-44dd-b95c-1b825f645b58",
   "metadata": {},
   "outputs": [],
   "source": [
    "selected_users = [\"3EUoHxIuYkWMKcnLfK38nTGOqHn1\",\"7uMKVmPZdwgtb9hc6r9YZyYXnwc2\", \"sgsxyilwB3T3xf3LIvkpSajN3NW2\"]\n",
    "selected_start_date = \"2024-02-22\"\n",
    "selected_end_date = \"2024-04-02\"\n",
    "explorer = visualizer_factory(processed_fhir_dataframe)\n",
    "\n",
    "# explorer.set_user_ids(selected_users)\n",
    "# explorer.set_date_range(selected_start_date, selected_end_date)\n",
    "# explorer.set_y_bounds(50, 50000)\n",
    "\n",
    "figs = explorer.create_static_plot(processed_fhir_dataframe)"
   ]
  },
  {
   "cell_type": "markdown",
   "id": "ab1b9dfe-1cfa-4838-bb5a-28989b6211a0",
   "metadata": {},
   "source": [
    "### Calculate Activity Index"
   ]
  },
  {
   "cell_type": "code",
   "execution_count": null,
   "id": "93970c18-acc4-45cf-9d58-495a6c0eb280",
   "metadata": {},
   "outputs": [],
   "source": [
    "activity_index_fhir_dataframe = calculate_activity_index(processed_fhir_dataframe)\n",
    "\n",
    "selected_users = [\"XrftRMc358NndzcRWEQ7P2MxvabZ\"]\n",
    "# selected_users = [\"7uMKVmPZdwgtb9hc6r9YZyYXnwc2\"]\n",
    "explorer = visualizer_factory(activity_index_fhir_dataframe)\n",
    "\n",
    "explorer.set_user_ids(selected_users)\n",
    "# explorer.set_date_range(selected_start_date, selected_end_date)\n",
    "\n",
    "figs = explorer.create_static_plot(activity_index_fhir_dataframe)\n",
    "activity_index_fhir_dataframe.df.head()"
   ]
  },
  {
   "cell_type": "markdown",
   "id": "f6558f0c-8035-40ae-b45c-429109398e44",
   "metadata": {},
   "source": [
    "### ECG Recording Example"
   ]
  },
  {
   "cell_type": "code",
   "execution_count": null,
   "id": "1b908976-582f-42cd-8f86-dd588202ec79",
   "metadata": {},
   "outputs": [],
   "source": [
    "# selected_users = [\"k3BnzOGAO0fIaxkDVXTZKlj3LAu2\", \"3EUoHxIuYkWMKcnLfK38nTGOqHn1\"]\n",
    "\n",
    "# selected_start_date = \"2023-03-13\"\n",
    "# selected_end_date = \"2023-03-13\"\n",
    "\n",
    "# visualizer = visualizer_factory(processed_fhir_dataframe)\n",
    "# visualizer.set_user_ids(selected_users)\n",
    "# visualizer.set_date_range(selected_start_date, selected_end_date)\n",
    "# figs = visualizer.plot_ecg_subplots(processed_fhir_dataframe) "
   ]
  },
  {
   "cell_type": "markdown",
   "id": "a91e9dce-e956-4694-8880-cf4508ccd8ae",
   "metadata": {},
   "source": [
    "## Export data"
   ]
  },
  {
   "cell_type": "code",
   "execution_count": null,
   "id": "d1bd3d6a-1aec-4bdc-9325-7c85efba0ff3",
   "metadata": {},
   "outputs": [],
   "source": [
    "selected_users = [\"sEmijWpn0vXe1cj60GO5kkjkrdT4\"]\n",
    "\n",
    "exporter = DataExporter(processed_fhir_dataframe)\n",
    "exporter.set_user_ids(selected_users)\n",
    "exporter.set_date_range(selected_start_date, selected_end_date)\n",
    "exporter.set_date_range(selected_start_date, selected_start_date)\n",
    "# exporter.create_and_save_plot(\"data_plot\") "
   ]
  }
 ],
 "metadata": {
  "kernelspec": {
   "display_name": "Python 3 (ipykernel)",
   "language": "python",
   "name": "python3"
  },
  "language_info": {
   "codemirror_mode": {
    "name": "ipython",
    "version": 3
   },
   "file_extension": ".py",
   "mimetype": "text/x-python",
   "name": "python",
   "nbconvert_exporter": "python",
   "pygments_lexer": "ipython3",
   "version": "3.10.9"
  }
 },
 "nbformat": 4,
 "nbformat_minor": 5
}
