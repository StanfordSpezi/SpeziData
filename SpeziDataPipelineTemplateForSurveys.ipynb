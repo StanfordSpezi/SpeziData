{
 "cells": [
  {
   "cell_type": "markdown",
   "id": "1b4070c1-59f7-474e-8ea1-156cd42ef811",
   "metadata": {},
   "source": [
    "## Import modules\n"
   ]
  },
  {
   "cell_type": "code",
   "execution_count": null,
   "id": "3da82a85-6035-4757-a666-e56b5f270513",
   "metadata": {},
   "outputs": [],
   "source": [
    "from spezi_data_pipeline.data_access.firebase_fhir_data_access import FirebaseFHIRAccess\n",
    "from spezi_data_pipeline.data_flattening.fhir_resources_flattener import flatten_fhir_resources, FHIRDataFrame\n",
    "from spezi_data_pipeline.data_processing.data_processor import FHIRDataProcessor\n",
    "from spezi_data_pipeline.data_processing.observation_processor import calculate_activity_index\n",
    "from spezi_data_pipeline.data_exploration.data_explorer import DataExplorer, visualizer_factory, explore_total_records_number\n",
    "from spezi_data_pipeline.data_export.data_exporter import DataExporter"
   ]
  },
  {
   "cell_type": "code",
   "execution_count": null,
   "id": "d6941960-0675-4c6d-9fdb-e5b52879d30a",
   "metadata": {},
   "outputs": [],
   "source": [
    "from fhirclient import client\n",
    "from fhirclient.models.questionnaire import Questionnaire\n",
    "from fhirclient.models.questionnaireresponse import QuestionnaireResponse\n",
    "\n",
    "# Initialize FHIR client\n",
    "settings = {\n",
    "    'app_id': 'my_app',\n",
    "    'api_base': 'https://launch.smarthealthit.org/v/r4/fhir'\n",
    "}\n",
    "smart = client.FHIRClient(settings=settings)\n",
    "\n",
    "def list_questionnaire_ids():\n",
    "    \"\"\"Fetch and list all Questionnaire IDs from the FHIR server.\"\"\"\n",
    "    search = Questionnaire.where({})\n",
    "    questionnaires = search.perform_resources(smart.server)\n",
    "    \n",
    "    print(\"Questionnaire IDs:\")\n",
    "    for questionnaire in questionnaires:\n",
    "        print(f\"ID: {questionnaire.id}, Title: {questionnaire.title}\")\n",
    "        \n",
    "def get_questionnaire(questionnaire_id):\n",
    "    \"\"\"Fetch the Questionnaire resource by ID.\"\"\"\n",
    "    return Questionnaire.read(questionnaire_id, smart.server)\n",
    "\n",
    "def get_questionnaire_response(response_id):\n",
    "    \"\"\"Fetch the QuestionnaireResponse resource by ID.\"\"\"\n",
    "    return QuestionnaireResponse.read(response_id, smart.server)\n",
    "\n",
    "def create_question_text_map(questionnaire):\n",
    "    \"\"\"Create a mapping of linkId to question text from the Questionnaire.\"\"\"\n",
    "    question_text_map = {}\n",
    "    \n",
    "    def add_items(items):\n",
    "        for item in items:\n",
    "            question_text_map[item.linkId] = item.text\n",
    "            if item.item:\n",
    "                add_items(item.item)\n",
    "    \n",
    "    add_items(questionnaire.item)\n",
    "    return question_text_map\n",
    "\n",
    "def map_response_to_text(response, question_text_map):\n",
    "    \"\"\"Map the QuestionnaireResponse linkIds to their corresponding text.\"\"\"\n",
    "    def map_items(items):\n",
    "        for item in items:\n",
    "            question_text = question_text_map.get(item.linkId, \"Unknown question\")\n",
    "            print(f\"Question: {question_text}\")\n",
    "            for answer in item.answer:\n",
    "                # Assuming answers are simple types like boolean, string, etc.\n",
    "                if hasattr(answer, 'valueBoolean'):\n",
    "                    print(f\"Answer: {answer.valueBoolean}\")\n",
    "                elif hasattr(answer, 'valueString'):\n",
    "                    print(f\"Answer: {answer.valueString}\")\n",
    "                elif hasattr(answer, 'valueInteger'):\n",
    "                    print(f\"Answer: {answer.valueInteger}\")\n",
    "                # Add other types as needed\n",
    "            \n",
    "            if item.item:\n",
    "                map_items(item.item)\n",
    "    \n",
    "    map_items(response.item)\n"
   ]
  },
  {
   "cell_type": "code",
   "execution_count": null,
   "id": "151d4e13-2756-4297-ae92-4b34044ae21d",
   "metadata": {},
   "outputs": [],
   "source": []
  },
  {
   "cell_type": "code",
   "execution_count": null,
   "id": "4ed90210-9a75-42e0-832f-9ff235ea0fe7",
   "metadata": {},
   "outputs": [],
   "source": [
    "list_questionnaire_ids()"
   ]
  },
  {
   "cell_type": "code",
   "execution_count": null,
   "id": "21705db3-1f87-4d15-8164-3cb1a14142b5",
   "metadata": {},
   "outputs": [],
   "source": [
    "# Example IDs (replace with actual IDs from your FHIR server)\n",
    "questionnaire_id = \"example-questionnaire\"\n",
    "response_id = \"example-response\"\n",
    "\n",
    "# Fetch the Questionnaire and QuestionnaireResponse resources\n",
    "questionnaire = get_questionnaire(questionnaire_id)\n",
    "response = get_questionnaire_response(response_id)\n",
    "\n",
    "# Create the question text map\n",
    "question_text_map = create_question_text_map(questionnaire)\n",
    "\n",
    "# Map the response to text and print\n",
    "map_response_to_text(response, question_text_map)"
   ]
  },
  {
   "cell_type": "markdown",
   "id": "c3623d09-656a-4abe-a4b9-a433ec86a91c",
   "metadata": {},
   "source": [
    "## Define credential files"
   ]
  },
  {
   "cell_type": "code",
   "execution_count": null,
   "id": "e844a4e1-1d9e-4c4a-a6a5-46da5b08f17c",
   "metadata": {
    "tags": []
   },
   "outputs": [],
   "source": [
    "# Define your Firebase project ID\n",
    "project_id = \"spezi-data-pipeline\"  # Replace with your Firebase project ID\n",
    "project_id = \"stanfordspezitemplateapp\"\n",
    "\n",
    "# Define the service account key file\n",
    "service_account_key_file = \"path_to_service_account_key_file.json\"  # Replace with your service account key file\n",
    "service_account_key_file = \"stanfordspezitemplateapp-firebase-adminsdk-thsmt-ff5e56378d.json\"\n",
    "\n",
    "# Define the collection name where your FHIR observations are stored and the input code if filtering is needed\n",
    "collection_name = \"users\"\n",
    "subcollection_name = \"QuestionnaireResponse\"\n",
    "\n",
    "# Define the survey path(s) for creating survey mappings\n",
    "survey_path = [\"SocialSupportQuestionnaire.json\"]                "
   ]
  },
  {
   "cell_type": "markdown",
   "id": "dee3e7e7-e273-4367-b36b-6a9148ad898f",
   "metadata": {},
   "source": [
    "## Initialize the FirebaseFHIRAccess class using your Firebase credentials"
   ]
  },
  {
   "cell_type": "code",
   "execution_count": null,
   "id": "62b89662-db30-4976-8ecf-da907b0721ba",
   "metadata": {},
   "outputs": [],
   "source": [
    "# Initialize the FirebaseFHIRAccess class using your Firebase credentials\n",
    "firebase_access = FirebaseFHIRAccess(project_id, service_account_key_file)\n",
    "firebase_access.connect()\n",
    "\n",
    "fhir_observations = firebase_access.fetch_data(collection_name, subcollection_name)\n",
    "\n",
    "flattened_fhir_dataframe = flatten_fhir_resources(fhir_observations, survey_path)"
   ]
  },
  {
   "cell_type": "code",
   "execution_count": null,
   "id": "ade94c48-d41e-48b7-b017-1d81c605b6be",
   "metadata": {},
   "outputs": [],
   "source": [
    "fhir_observations[0].id\n"
   ]
  },
  {
   "cell_type": "code",
   "execution_count": null,
   "id": "4453f736-b081-4de1-86d7-9dc3efd62106",
   "metadata": {},
   "outputs": [],
   "source": [
    "from spezi_data_pipeline.data_flattening.fhir_resources_flattener import extract_mappings\n",
    "\n",
    "question_mapping, answer_mapping = extract_mappings(survey_path)\n",
    "\n",
    "# question_mapping"
   ]
  },
  {
   "cell_type": "code",
   "execution_count": null,
   "id": "cc4148b9-5c8e-4ea3-89b6-6999f1d72c3a",
   "metadata": {},
   "outputs": [],
   "source": [
    "flattened_fhir_dataframe.df.head()"
   ]
  },
  {
   "cell_type": "markdown",
   "id": "43616584-8c5d-4580-baaa-59f25e5f334f",
   "metadata": {},
   "source": [
    "## Calculate risk score"
   ]
  },
  {
   "cell_type": "markdown",
   "id": "6e91ed96-c86e-4486-ab28-ef55fdd1947e",
   "metadata": {},
   "source": [
    "## Explore Data"
   ]
  },
  {
   "cell_type": "markdown",
   "id": "a91e9dce-e956-4694-8880-cf4508ccd8ae",
   "metadata": {},
   "source": [
    "## Export data"
   ]
  },
  {
   "cell_type": "code",
   "execution_count": null,
   "id": "d1bd3d6a-1aec-4bdc-9325-7c85efba0ff3",
   "metadata": {},
   "outputs": [],
   "source": [
    "exporter = DataExporter(flattened_fhir_dataframe)\n",
    "exporter.export_to_csv(\"survey_data.csv\") "
   ]
  }
 ],
 "metadata": {
  "kernelspec": {
   "display_name": "Python 3 (ipykernel)",
   "language": "python",
   "name": "python3"
  },
  "language_info": {
   "codemirror_mode": {
    "name": "ipython",
    "version": 3
   },
   "file_extension": ".py",
   "mimetype": "text/x-python",
   "name": "python",
   "nbconvert_exporter": "python",
   "pygments_lexer": "ipython3",
   "version": "3.10.9"
  }
 },
 "nbformat": 4,
 "nbformat_minor": 5
}
