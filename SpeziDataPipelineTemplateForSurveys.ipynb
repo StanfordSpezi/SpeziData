{
 "cells": [
  {
   "cell_type": "markdown",
   "id": "1b4070c1-59f7-474e-8ea1-156cd42ef811",
   "metadata": {},
   "source": [
    "## Import modules\n"
   ]
  },
  {
   "cell_type": "code",
   "execution_count": 1,
   "id": "3da82a85-6035-4757-a666-e56b5f270513",
   "metadata": {},
   "outputs": [],
   "source": [
    "from spezi_data_pipeline.data_access.firebase_fhir_data_access import FirebaseFHIRAccess\n",
    "from spezi_data_pipeline.data_flattening.fhir_resources_flattener import flatten_fhir_resources, FHIRDataFrame\n",
    "from spezi_data_pipeline.data_processing.data_processor import FHIRDataProcessor\n",
    "from spezi_data_pipeline.data_processing.observation_processor import calculate_activity_index\n",
    "from spezi_data_pipeline.data_exploration.data_explorer import DataExplorer, visualizer_factory, explore_total_records_number\n",
    "from spezi_data_pipeline.data_export.data_exporter import DataExporter"
   ]
  },
  {
   "cell_type": "markdown",
   "id": "c3623d09-656a-4abe-a4b9-a433ec86a91c",
   "metadata": {},
   "source": [
    "## Define credential files"
   ]
  },
  {
   "cell_type": "code",
   "execution_count": 2,
   "id": "e844a4e1-1d9e-4c4a-a6a5-46da5b08f17c",
   "metadata": {
    "tags": []
   },
   "outputs": [],
   "source": [
    "# Define your Firebase project ID\n",
    "project_id = \"spezi-data-pipeline\"  # Replace with your Firebase project ID\n",
    "project_id = \"stanfordspezitemplateapp\"\n",
    "\n",
    "# Define the service account key file\n",
    "service_account_key_file = \"path_to_service_account_key_file.json\"  # Replace with your service account key file\n",
    "service_account_key_file = \"stanfordspezitemplateapp-firebase-adminsdk-thsmt-e0948f0fa1.json\"\n",
    "\n",
    "# Define the collection name where your FHIR observations are stored and the input code if filtering is needed\n",
    "collection_name = \"users\"\n",
    "subcollection_name = \"QuestionnaireResponse\"\n",
    "\n",
    "# Define the survey path(s) for creating survey mappings\n",
    "survey_path = [\"SocialSupportQuestionnaire.json\"]                "
   ]
  },
  {
   "cell_type": "markdown",
   "id": "dee3e7e7-e273-4367-b36b-6a9148ad898f",
   "metadata": {},
   "source": [
    "## Initialize the FirebaseFHIRAccess class using your Firebase credentials"
   ]
  },
  {
   "cell_type": "code",
   "execution_count": null,
   "id": "62b89662-db30-4976-8ecf-da907b0721ba",
   "metadata": {},
   "outputs": [],
   "source": [
    "# Initialize the FirebaseFHIRAccess class using your Firebase credentials\n",
    "firebase_access = FirebaseFHIRAccess(project_id, service_account_key_file)\n",
    "firebase_access.connect()\n",
    "\n",
    "fhir_observations = firebase_access.fetch_data(collection_name, subcollection_name)\n",
    "\n",
    "flattened_fhir_dataframe = flatten_fhir_resources(fhir_observations, survey_path)"
   ]
  },
  {
   "cell_type": "code",
   "execution_count": 4,
   "id": "cc4148b9-5c8e-4ea3-89b6-6999f1d72c3a",
   "metadata": {},
   "outputs": [
    {
     "data": {
      "text/html": [
       "<div>\n",
       "<style scoped>\n",
       "    .dataframe tbody tr th:only-of-type {\n",
       "        vertical-align: middle;\n",
       "    }\n",
       "\n",
       "    .dataframe tbody tr th {\n",
       "        vertical-align: top;\n",
       "    }\n",
       "\n",
       "    .dataframe thead th {\n",
       "        text-align: right;\n",
       "    }\n",
       "</style>\n",
       "<table border=\"1\" class=\"dataframe\">\n",
       "  <thead>\n",
       "    <tr style=\"text-align: right;\">\n",
       "      <th></th>\n",
       "      <th>UserId</th>\n",
       "      <th>ResourceId</th>\n",
       "      <th>AuthoredDate</th>\n",
       "      <th>SurveyTitle</th>\n",
       "      <th>SurveyId</th>\n",
       "      <th>QuestionId</th>\n",
       "      <th>QuestionText</th>\n",
       "      <th>AnswerText</th>\n",
       "    </tr>\n",
       "  </thead>\n",
       "  <tbody>\n",
       "    <tr>\n",
       "      <th>0</th>\n",
       "      <td>2VFMFZpWmpNUGUJrDIa7gooJRD12</td>\n",
       "      <td>019A9013-F8D9-4E9F-B17B-6790EFD29D4C</td>\n",
       "      <td>2024-03-27 17:00:24.568549-07:00</td>\n",
       "      <td>Social Support</td>\n",
       "      <td>37DD265A-B9E8-45FA-87E2-50A132AAEA20</td>\n",
       "      <td>dcea2683-9815-4505-b240-e75b502b29ef</td>\n",
       "      <td>How often do you need someone to help you if y...</td>\n",
       "      <td>Most of the time</td>\n",
       "    </tr>\n",
       "    <tr>\n",
       "      <th>1</th>\n",
       "      <td>2VFMFZpWmpNUGUJrDIa7gooJRD12</td>\n",
       "      <td>019A9013-F8D9-4E9F-B17B-6790EFD29D4C</td>\n",
       "      <td>2024-03-27 17:00:24.568549-07:00</td>\n",
       "      <td>Social Support</td>\n",
       "      <td>37DD265A-B9E8-45FA-87E2-50A132AAEA20</td>\n",
       "      <td>ce09d701-7b93-4150-defb-51825e05ade9</td>\n",
       "      <td>How often do you need someone to take you to t...</td>\n",
       "      <td>Most of the time</td>\n",
       "    </tr>\n",
       "    <tr>\n",
       "      <th>2</th>\n",
       "      <td>2VFMFZpWmpNUGUJrDIa7gooJRD12</td>\n",
       "      <td>019A9013-F8D9-4E9F-B17B-6790EFD29D4C</td>\n",
       "      <td>2024-03-27 17:00:24.568549-07:00</td>\n",
       "      <td>Social Support</td>\n",
       "      <td>37DD265A-B9E8-45FA-87E2-50A132AAEA20</td>\n",
       "      <td>58e97564-5f4d-4d4b-86d5-6429cbbc7a8e</td>\n",
       "      <td>How often do you need someone to prepare your ...</td>\n",
       "      <td>Most of the time</td>\n",
       "    </tr>\n",
       "    <tr>\n",
       "      <th>3</th>\n",
       "      <td>2VFMFZpWmpNUGUJrDIa7gooJRD12</td>\n",
       "      <td>019A9013-F8D9-4E9F-B17B-6790EFD29D4C</td>\n",
       "      <td>2024-03-27 17:00:24.568549-07:00</td>\n",
       "      <td>Social Support</td>\n",
       "      <td>37DD265A-B9E8-45FA-87E2-50A132AAEA20</td>\n",
       "      <td>ad161c49-e8a6-4d31-90e8-02b2887a765f</td>\n",
       "      <td>How often do you need someone to help with dai...</td>\n",
       "      <td>Some of the time</td>\n",
       "    </tr>\n",
       "    <tr>\n",
       "      <th>4</th>\n",
       "      <td>2VFMFZpWmpNUGUJrDIa7gooJRD12</td>\n",
       "      <td>019A9013-F8D9-4E9F-B17B-6790EFD29D4C</td>\n",
       "      <td>2024-03-27 17:00:24.568549-07:00</td>\n",
       "      <td>Social Support</td>\n",
       "      <td>37DD265A-B9E8-45FA-87E2-50A132AAEA20</td>\n",
       "      <td>ba518851-2843-4bbd-c0f7-5b5692d542e0</td>\n",
       "      <td>What is your age?</td>\n",
       "      <td>65</td>\n",
       "    </tr>\n",
       "  </tbody>\n",
       "</table>\n",
       "</div>"
      ],
      "text/plain": [
       "                         UserId                            ResourceId  \\\n",
       "0  2VFMFZpWmpNUGUJrDIa7gooJRD12  019A9013-F8D9-4E9F-B17B-6790EFD29D4C   \n",
       "1  2VFMFZpWmpNUGUJrDIa7gooJRD12  019A9013-F8D9-4E9F-B17B-6790EFD29D4C   \n",
       "2  2VFMFZpWmpNUGUJrDIa7gooJRD12  019A9013-F8D9-4E9F-B17B-6790EFD29D4C   \n",
       "3  2VFMFZpWmpNUGUJrDIa7gooJRD12  019A9013-F8D9-4E9F-B17B-6790EFD29D4C   \n",
       "4  2VFMFZpWmpNUGUJrDIa7gooJRD12  019A9013-F8D9-4E9F-B17B-6790EFD29D4C   \n",
       "\n",
       "                       AuthoredDate     SurveyTitle  \\\n",
       "0  2024-03-27 17:00:24.568549-07:00  Social Support   \n",
       "1  2024-03-27 17:00:24.568549-07:00  Social Support   \n",
       "2  2024-03-27 17:00:24.568549-07:00  Social Support   \n",
       "3  2024-03-27 17:00:24.568549-07:00  Social Support   \n",
       "4  2024-03-27 17:00:24.568549-07:00  Social Support   \n",
       "\n",
       "                               SurveyId                            QuestionId  \\\n",
       "0  37DD265A-B9E8-45FA-87E2-50A132AAEA20  dcea2683-9815-4505-b240-e75b502b29ef   \n",
       "1  37DD265A-B9E8-45FA-87E2-50A132AAEA20  ce09d701-7b93-4150-defb-51825e05ade9   \n",
       "2  37DD265A-B9E8-45FA-87E2-50A132AAEA20  58e97564-5f4d-4d4b-86d5-6429cbbc7a8e   \n",
       "3  37DD265A-B9E8-45FA-87E2-50A132AAEA20  ad161c49-e8a6-4d31-90e8-02b2887a765f   \n",
       "4  37DD265A-B9E8-45FA-87E2-50A132AAEA20  ba518851-2843-4bbd-c0f7-5b5692d542e0   \n",
       "\n",
       "                                        QuestionText        AnswerText  \n",
       "0  How often do you need someone to help you if y...  Most of the time  \n",
       "1  How often do you need someone to take you to t...  Most of the time  \n",
       "2  How often do you need someone to prepare your ...  Most of the time  \n",
       "3  How often do you need someone to help with dai...  Some of the time  \n",
       "4                                  What is your age?                65  "
      ]
     },
     "execution_count": 4,
     "metadata": {},
     "output_type": "execute_result"
    }
   ],
   "source": [
    "flattened_fhir_dataframe.df.head()"
   ]
  },
  {
   "cell_type": "markdown",
   "id": "43616584-8c5d-4580-baaa-59f25e5f334f",
   "metadata": {},
   "source": [
    "## Calculate risk score"
   ]
  },
  {
   "cell_type": "markdown",
   "id": "6e91ed96-c86e-4486-ab28-ef55fdd1947e",
   "metadata": {},
   "source": [
    "## Explore Data"
   ]
  },
  {
   "cell_type": "markdown",
   "id": "a91e9dce-e956-4694-8880-cf4508ccd8ae",
   "metadata": {},
   "source": [
    "## Export data"
   ]
  },
  {
   "cell_type": "code",
   "execution_count": 7,
   "id": "d1bd3d6a-1aec-4bdc-9325-7c85efba0ff3",
   "metadata": {},
   "outputs": [],
   "source": [
    "exporter = DataExporter(flattened_fhir_dataframe)\n",
    "exporter.export_to_csv(\"survey_data.csv\") "
   ]
  }
 ],
 "metadata": {
  "kernelspec": {
   "display_name": "Python 3 (ipykernel)",
   "language": "python",
   "name": "python3"
  },
  "language_info": {
   "codemirror_mode": {
    "name": "ipython",
    "version": 3
   },
   "file_extension": ".py",
   "mimetype": "text/x-python",
   "name": "python",
   "nbconvert_exporter": "python",
   "pygments_lexer": "ipython3",
   "version": "3.10.9"
  }
 },
 "nbformat": 4,
 "nbformat_minor": 5
}
