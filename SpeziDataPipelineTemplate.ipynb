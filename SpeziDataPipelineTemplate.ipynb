{
 "cells": [
  {
   "cell_type": "markdown",
   "id": "1b4070c1-59f7-474e-8ea1-156cd42ef811",
   "metadata": {},
   "source": [
    "## Import modules\n"
   ]
  },
  {
   "cell_type": "code",
   "execution_count": 1,
   "id": "3da82a85-6035-4757-a666-e56b5f270513",
   "metadata": {
    "tags": []
   },
   "outputs": [],
   "source": [
    "from data_access.firebase_fhir_data_access import *\n",
    "from data_flattening.fhir_resources_flattener import *\n",
    "from data_processing.data_processor import *\n",
    "from data_visualization.data_visualizer import * \n",
    "from data_export.data_exporter import *"
   ]
  },
  {
   "cell_type": "markdown",
   "id": "c3623d09-656a-4abe-a4b9-a433ec86a91c",
   "metadata": {},
   "source": [
    "## Define credential files"
   ]
  },
  {
   "cell_type": "code",
   "execution_count": 2,
   "id": "e844a4e1-1d9e-4c4a-a6a5-46da5b08f17c",
   "metadata": {
    "tags": []
   },
   "outputs": [],
   "source": [
    "# Define your Firebase project ID\n",
    "project_id = \"stanfordspezitemplateapp\" \n",
    "\n",
    "# Define the service account key file\n",
    "service_account_key_file = \"credentials.json\"\n",
    "\n",
    "# Define the collection name where your FHIR observations are stored and the input code if filtering is needed\n",
    "collection_name = \"users\"\n",
    "subcollection_name = \"QuestionnaireResponse\"\n",
    "# loinc_codes = [\"55423-8\"] "
   ]
  },
  {
   "cell_type": "code",
   "execution_count": 3,
   "id": "f542d930-10ef-4110-8163-3c33bbf2101c",
   "metadata": {
    "tags": []
   },
   "outputs": [],
   "source": [
    "file_paths = [\n",
    "    \"SocialSupportQuestionnaire.json\"\n",
    "]"
   ]
  },
  {
   "cell_type": "markdown",
   "id": "dee3e7e7-e273-4367-b36b-6a9148ad898f",
   "metadata": {},
   "source": [
    "## Initialize the FirebaseFHIRAccess class using your Firebase credentials"
   ]
  },
  {
   "cell_type": "code",
   "execution_count": 4,
   "id": "62b89662-db30-4976-8ecf-da907b0721ba",
   "metadata": {
    "tags": []
   },
   "outputs": [
    {
     "data": {
      "text/html": [
       "<div>\n",
       "<style scoped>\n",
       "    .dataframe tbody tr th:only-of-type {\n",
       "        vertical-align: middle;\n",
       "    }\n",
       "\n",
       "    .dataframe tbody tr th {\n",
       "        vertical-align: top;\n",
       "    }\n",
       "\n",
       "    .dataframe thead th {\n",
       "        text-align: right;\n",
       "    }\n",
       "</style>\n",
       "<table border=\"1\" class=\"dataframe\">\n",
       "  <thead>\n",
       "    <tr style=\"text-align: right;\">\n",
       "      <th></th>\n",
       "      <th>Date</th>\n",
       "      <th>UserID</th>\n",
       "      <th>SurveyID</th>\n",
       "      <th>QuestionID</th>\n",
       "      <th>QuestionText</th>\n",
       "      <th>Answer</th>\n",
       "    </tr>\n",
       "  </thead>\n",
       "  <tbody>\n",
       "    <tr>\n",
       "      <th>184</th>\n",
       "      <td>2024-02-18 17:22:50.506317+07:00</td>\n",
       "      <td>ylQxxWtRTvXPfoRI5L1I2jSDEkj2</td>\n",
       "      <td>61F1838E-1111-4822-82ED-FFBA2186267E</td>\n",
       "      <td>58e97564-5f4d-4d4b-86d5-6429cbbc7a8e</td>\n",
       "      <td>How often do you need someone to prepare your ...</td>\n",
       "      <td>No Answer</td>\n",
       "    </tr>\n",
       "    <tr>\n",
       "      <th>185</th>\n",
       "      <td>2024-02-18 17:22:50.506317+07:00</td>\n",
       "      <td>ylQxxWtRTvXPfoRI5L1I2jSDEkj2</td>\n",
       "      <td>61F1838E-1111-4822-82ED-FFBA2186267E</td>\n",
       "      <td>ad161c49-e8a6-4d31-90e8-02b2887a765f</td>\n",
       "      <td>How often do you need someone to help with dai...</td>\n",
       "      <td>Most of the time</td>\n",
       "    </tr>\n",
       "    <tr>\n",
       "      <th>186</th>\n",
       "      <td>2024-02-18 17:22:50.506317+07:00</td>\n",
       "      <td>ylQxxWtRTvXPfoRI5L1I2jSDEkj2</td>\n",
       "      <td>61F1838E-1111-4822-82ED-FFBA2186267E</td>\n",
       "      <td>ba518851-2843-4bbd-c0f7-5b5692d542e0</td>\n",
       "      <td>What is your age?</td>\n",
       "      <td>25</td>\n",
       "    </tr>\n",
       "    <tr>\n",
       "      <th>187</th>\n",
       "      <td>2024-02-18 17:22:50.506317+07:00</td>\n",
       "      <td>ylQxxWtRTvXPfoRI5L1I2jSDEkj2</td>\n",
       "      <td>61F1838E-1111-4822-82ED-FFBA2186267E</td>\n",
       "      <td>695525f3-3e89-4455-8e25-878171c596da</td>\n",
       "      <td>What is your preferred contact method?</td>\n",
       "      <td>Phone call</td>\n",
       "    </tr>\n",
       "    <tr>\n",
       "      <th>188</th>\n",
       "      <td>2024-02-18 17:22:50.506317+07:00</td>\n",
       "      <td>ylQxxWtRTvXPfoRI5L1I2jSDEkj2</td>\n",
       "      <td>61F1838E-1111-4822-82ED-FFBA2186267E</td>\n",
       "      <td>c3bea33d-4c50-4f4a-8ae4-1a52be326b19</td>\n",
       "      <td>What is your phone number? Ex. (555) 555-5555</td>\n",
       "      <td>No Answer</td>\n",
       "    </tr>\n",
       "  </tbody>\n",
       "</table>\n",
       "</div>"
      ],
      "text/plain": [
       "                                 Date                        UserID  \\\n",
       "184  2024-02-18 17:22:50.506317+07:00  ylQxxWtRTvXPfoRI5L1I2jSDEkj2   \n",
       "185  2024-02-18 17:22:50.506317+07:00  ylQxxWtRTvXPfoRI5L1I2jSDEkj2   \n",
       "186  2024-02-18 17:22:50.506317+07:00  ylQxxWtRTvXPfoRI5L1I2jSDEkj2   \n",
       "187  2024-02-18 17:22:50.506317+07:00  ylQxxWtRTvXPfoRI5L1I2jSDEkj2   \n",
       "188  2024-02-18 17:22:50.506317+07:00  ylQxxWtRTvXPfoRI5L1I2jSDEkj2   \n",
       "\n",
       "                                 SurveyID  \\\n",
       "184  61F1838E-1111-4822-82ED-FFBA2186267E   \n",
       "185  61F1838E-1111-4822-82ED-FFBA2186267E   \n",
       "186  61F1838E-1111-4822-82ED-FFBA2186267E   \n",
       "187  61F1838E-1111-4822-82ED-FFBA2186267E   \n",
       "188  61F1838E-1111-4822-82ED-FFBA2186267E   \n",
       "\n",
       "                               QuestionID  \\\n",
       "184  58e97564-5f4d-4d4b-86d5-6429cbbc7a8e   \n",
       "185  ad161c49-e8a6-4d31-90e8-02b2887a765f   \n",
       "186  ba518851-2843-4bbd-c0f7-5b5692d542e0   \n",
       "187  695525f3-3e89-4455-8e25-878171c596da   \n",
       "188  c3bea33d-4c50-4f4a-8ae4-1a52be326b19   \n",
       "\n",
       "                                          QuestionText            Answer  \n",
       "184  How often do you need someone to prepare your ...         No Answer  \n",
       "185  How often do you need someone to help with dai...  Most of the time  \n",
       "186                                  What is your age?                25  \n",
       "187             What is your preferred contact method?        Phone call  \n",
       "188      What is your phone number? Ex. (555) 555-5555         No Answer  "
      ]
     },
     "execution_count": 4,
     "metadata": {},
     "output_type": "execute_result"
    }
   ],
   "source": [
    "firebase_access = FirebaseFHIRAccess(project_id, service_account_key_file)\n",
    "firebase_access.connect()\n",
    "\n",
    "# Fetch FHIR observations from Firestore\n",
    "fhir_observations = firebase_access.fetch_data(collection_name, subcollection_name)\n",
    "\n",
    "# # Flatten the fetched FHIR observations into a FHIRDataFrame\n",
    "flattened_fhir_dataframe = flatten_fhir_resources(fhir_observations, file_paths)\n",
    "flattened_fhir_dataframe.df.tail()"
   ]
  },
  {
   "cell_type": "markdown",
   "id": "43616584-8c5d-4580-baaa-59f25e5f334f",
   "metadata": {},
   "source": [
    "## Apply basic processing for convenient data readability"
   ]
  },
  {
   "cell_type": "code",
   "execution_count": null,
   "id": "2d878a15-3382-4952-83d2-0507fcff471a",
   "metadata": {},
   "outputs": [],
   "source": [
    "processed_fhir_dataframe = FHIRDataProcessor().process_fhir_data(flattened_fhir_dataframe)\n",
    "processed_fhir_dataframe.df.head()"
   ]
  },
  {
   "cell_type": "markdown",
   "id": "6e91ed96-c86e-4486-ab28-ef55fdd1947e",
   "metadata": {},
   "source": [
    "## Visualize Data"
   ]
  },
  {
   "cell_type": "code",
   "execution_count": null,
   "id": "5a09ab04-4c93-44dd-b95c-1b825f645b58",
   "metadata": {},
   "outputs": [],
   "source": [
    "visualizer = DataVisualizer()\n",
    "# selected_users = [\"5okimXt6noCIcD4DGoB13wzXVJjY\", \"ys7YzmWeX0tKr1ilsXMiNaiZxGTk\"]  # Use None to plot data for all users\n",
    "visualizer.set_user_ids([\"7uMKVmPZdwgtb9hc6r9YZyYXnwc2\"])\n",
    "# visualizer.set_date_range(\"2024-01-01\", \"2023-03-31\")\n",
    "visualizer.set_y_bounds(0, 120)\n",
    "\n",
    "fig = visualizer.create_static_plot(processed_fhir_dataframe)"
   ]
  },
  {
   "cell_type": "markdown",
   "id": "a91e9dce-e956-4694-8880-cf4508ccd8ae",
   "metadata": {},
   "source": [
    "## Export data"
   ]
  },
  {
   "cell_type": "code",
   "execution_count": null,
   "id": "d1bd3d6a-1aec-4bdc-9325-7c85efba0ff3",
   "metadata": {},
   "outputs": [],
   "source": [
    "exporter = DataExporter(processed_fhir_dataframe)\n",
    "# selected_users = [\"sEmijWpn0vXe1cj60GO5kkjkrdT4\"] \n",
    "# exporter.set_user_ids(selected_users)\n",
    "# exporter.set_date_range(\"2022-01-01\", \"2022-12-31\")\n",
    "# exporter.set_y_bounds(50, 700)\n",
    "exporter.create_and_save_plot(\"data_plot.tif\")"
   ]
  }
 ],
 "metadata": {
  "kernelspec": {
   "display_name": "Python 3 (ipykernel)",
   "language": "python",
   "name": "python3"
  },
  "language_info": {
   "codemirror_mode": {
    "name": "ipython",
    "version": 3
   },
   "file_extension": ".py",
   "mimetype": "text/x-python",
   "name": "python",
   "nbconvert_exporter": "python",
   "pygments_lexer": "ipython3",
   "version": "3.10.10"
  }
 },
 "nbformat": 4,
 "nbformat_minor": 5
}
