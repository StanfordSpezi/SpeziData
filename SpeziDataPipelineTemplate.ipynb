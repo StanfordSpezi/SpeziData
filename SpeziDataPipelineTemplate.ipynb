{
 "cells": [
  {
   "cell_type": "markdown",
   "id": "1b4070c1-59f7-474e-8ea1-156cd42ef811",
   "metadata": {},
   "source": [
    "## Import modules\n"
   ]
  },
  {
   "cell_type": "code",
   "execution_count": 1,
   "id": "3da82a85-6035-4757-a666-e56b5f270513",
   "metadata": {
    "tags": []
   },
   "outputs": [],
   "source": [
    "from data_access.firebase_fhir_data_access import *\n",
    "from data_flattening.fhir_resources_flattener import *\n",
    "from data_processing.data_processor import *\n",
    "from data_visualization.data_visualizer import * \n",
    "from data_export.data_exporter import *"
   ]
  },
  {
   "cell_type": "markdown",
   "id": "c3623d09-656a-4abe-a4b9-a433ec86a91c",
   "metadata": {},
   "source": [
    "## Define credential files"
   ]
  },
  {
   "cell_type": "code",
   "execution_count": 2,
   "id": "e844a4e1-1d9e-4c4a-a6a5-46da5b08f17c",
   "metadata": {
    "tags": []
   },
   "outputs": [],
   "source": [
    "# Define your Firebase project ID\n",
    "project_id = \"stanfordspezitemplateapp\" \n",
    "\n",
    "# Define the service account key file\n",
    "service_account_key_file = \"stanfordspezitemplateapp-firebase-adminsdk-thsmt-e0948f0fa1.json\"\n",
    "\n",
    "# Define the collection name where your FHIR observations are stored and the input code if filtering is needed\n",
    "collection_name = \"users\"\n",
    "subcollection_name = \"QuestionnaireResponse\"\n",
    "# loinc_codes = [\"55423-8\"] "
   ]
  },
  {
   "cell_type": "code",
   "execution_count": 3,
   "id": "f542d930-10ef-4110-8163-3c33bbf2101c",
   "metadata": {
    "tags": []
   },
   "outputs": [],
   "source": [
    "file_paths = [\n",
    "    \"SocialSupportQuestionnaire.json\"\n",
    "]"
   ]
  },
  {
   "cell_type": "markdown",
   "id": "dee3e7e7-e273-4367-b36b-6a9148ad898f",
   "metadata": {},
   "source": [
    "## Initialize the FirebaseFHIRAccess class using your Firebase credentials"
   ]
  },
  {
   "cell_type": "code",
   "execution_count": 4,
   "id": "62b89662-db30-4976-8ecf-da907b0721ba",
   "metadata": {
    "tags": []
   },
   "outputs": [
    {
     "data": {
      "text/html": [
       "<div>\n",
       "<style scoped>\n",
       "    .dataframe tbody tr th:only-of-type {\n",
       "        vertical-align: middle;\n",
       "    }\n",
       "\n",
       "    .dataframe tbody tr th {\n",
       "        vertical-align: top;\n",
       "    }\n",
       "\n",
       "    .dataframe thead th {\n",
       "        text-align: right;\n",
       "    }\n",
       "</style>\n",
       "<table border=\"1\" class=\"dataframe\">\n",
       "  <thead>\n",
       "    <tr style=\"text-align: right;\">\n",
       "      <th></th>\n",
       "      <th>UserID</th>\n",
       "      <th>Date</th>\n",
       "      <th>SurveyID</th>\n",
       "      <th>QuestionID</th>\n",
       "      <th>QuestionText</th>\n",
       "      <th>Answer</th>\n",
       "    </tr>\n",
       "  </thead>\n",
       "  <tbody>\n",
       "    <tr>\n",
       "      <th>196</th>\n",
       "      <td>zQEnK526XiVWnNwoAbDFtaLQZg13</td>\n",
       "      <td>2024-04-07 20:24:20.074648-07:00</td>\n",
       "      <td>264FDFBE-0569-4C0E-B9E3-74FFB0F21484</td>\n",
       "      <td>ce09d701-7b93-4150-defb-51825e05ade9</td>\n",
       "      <td>How often do you need someone to take you to t...</td>\n",
       "      <td>None of the time</td>\n",
       "    </tr>\n",
       "    <tr>\n",
       "      <th>197</th>\n",
       "      <td>zQEnK526XiVWnNwoAbDFtaLQZg13</td>\n",
       "      <td>2024-04-07 20:24:20.074648-07:00</td>\n",
       "      <td>264FDFBE-0569-4C0E-B9E3-74FFB0F21484</td>\n",
       "      <td>58e97564-5f4d-4d4b-86d5-6429cbbc7a8e</td>\n",
       "      <td>How often do you need someone to prepare your ...</td>\n",
       "      <td>None of the time</td>\n",
       "    </tr>\n",
       "    <tr>\n",
       "      <th>198</th>\n",
       "      <td>zQEnK526XiVWnNwoAbDFtaLQZg13</td>\n",
       "      <td>2024-04-07 20:24:20.074648-07:00</td>\n",
       "      <td>264FDFBE-0569-4C0E-B9E3-74FFB0F21484</td>\n",
       "      <td>ad161c49-e8a6-4d31-90e8-02b2887a765f</td>\n",
       "      <td>How often do you need someone to help with dai...</td>\n",
       "      <td>None of the time</td>\n",
       "    </tr>\n",
       "    <tr>\n",
       "      <th>199</th>\n",
       "      <td>zQEnK526XiVWnNwoAbDFtaLQZg13</td>\n",
       "      <td>2024-04-07 20:24:20.074648-07:00</td>\n",
       "      <td>264FDFBE-0569-4C0E-B9E3-74FFB0F21484</td>\n",
       "      <td>ba518851-2843-4bbd-c0f7-5b5692d542e0</td>\n",
       "      <td>What is your age?</td>\n",
       "      <td>42</td>\n",
       "    </tr>\n",
       "    <tr>\n",
       "      <th>200</th>\n",
       "      <td>zQEnK526XiVWnNwoAbDFtaLQZg13</td>\n",
       "      <td>2024-04-07 20:24:20.074648-07:00</td>\n",
       "      <td>264FDFBE-0569-4C0E-B9E3-74FFB0F21484</td>\n",
       "      <td>695525f3-3e89-4455-8e25-878171c596da</td>\n",
       "      <td>What is your preferred contact method?</td>\n",
       "      <td>E-mail</td>\n",
       "    </tr>\n",
       "  </tbody>\n",
       "</table>\n",
       "</div>"
      ],
      "text/plain": [
       "                           UserID                              Date  \\\n",
       "196  zQEnK526XiVWnNwoAbDFtaLQZg13  2024-04-07 20:24:20.074648-07:00   \n",
       "197  zQEnK526XiVWnNwoAbDFtaLQZg13  2024-04-07 20:24:20.074648-07:00   \n",
       "198  zQEnK526XiVWnNwoAbDFtaLQZg13  2024-04-07 20:24:20.074648-07:00   \n",
       "199  zQEnK526XiVWnNwoAbDFtaLQZg13  2024-04-07 20:24:20.074648-07:00   \n",
       "200  zQEnK526XiVWnNwoAbDFtaLQZg13  2024-04-07 20:24:20.074648-07:00   \n",
       "\n",
       "                                 SurveyID  \\\n",
       "196  264FDFBE-0569-4C0E-B9E3-74FFB0F21484   \n",
       "197  264FDFBE-0569-4C0E-B9E3-74FFB0F21484   \n",
       "198  264FDFBE-0569-4C0E-B9E3-74FFB0F21484   \n",
       "199  264FDFBE-0569-4C0E-B9E3-74FFB0F21484   \n",
       "200  264FDFBE-0569-4C0E-B9E3-74FFB0F21484   \n",
       "\n",
       "                               QuestionID  \\\n",
       "196  ce09d701-7b93-4150-defb-51825e05ade9   \n",
       "197  58e97564-5f4d-4d4b-86d5-6429cbbc7a8e   \n",
       "198  ad161c49-e8a6-4d31-90e8-02b2887a765f   \n",
       "199  ba518851-2843-4bbd-c0f7-5b5692d542e0   \n",
       "200  695525f3-3e89-4455-8e25-878171c596da   \n",
       "\n",
       "                                          QuestionText            Answer  \n",
       "196  How often do you need someone to take you to t...  None of the time  \n",
       "197  How often do you need someone to prepare your ...  None of the time  \n",
       "198  How often do you need someone to help with dai...  None of the time  \n",
       "199                                  What is your age?                42  \n",
       "200             What is your preferred contact method?            E-mail  "
      ]
     },
     "execution_count": 4,
     "metadata": {},
     "output_type": "execute_result"
    }
   ],
   "source": [
    "firebase_access = FirebaseFHIRAccess(project_id, service_account_key_file)\n",
    "firebase_access.connect()\n",
    "\n",
    "# Fetch FHIR observations from Firestore\n",
    "fhir_observations = firebase_access.fetch_data(collection_name, subcollection_name)\n",
    "\n",
    "# # Flatten the fetched FHIR observations into a FHIRDataFrame\n",
    "flattened_fhir_dataframe = flatten_fhir_resources(fhir_observations, file_paths)\n",
    "flattened_fhir_dataframe.df.tail()"
   ]
  },
  {
   "cell_type": "markdown",
   "id": "43616584-8c5d-4580-baaa-59f25e5f334f",
   "metadata": {},
   "source": [
    "## Apply basic processing for convenient data readability"
   ]
  },
  {
   "cell_type": "code",
   "execution_count": null,
   "id": "2d878a15-3382-4952-83d2-0507fcff471a",
   "metadata": {},
   "outputs": [],
   "source": [
    "processed_fhir_dataframe = FHIRDataProcessor().process_fhir_data(flattened_fhir_dataframe)\n",
    "processed_fhir_dataframe.df.head()"
   ]
  },
  {
   "cell_type": "markdown",
   "id": "6e91ed96-c86e-4486-ab28-ef55fdd1947e",
   "metadata": {},
   "source": [
    "## Visualize Data"
   ]
  },
  {
   "cell_type": "code",
   "execution_count": 5,
   "id": "5a09ab04-4c93-44dd-b95c-1b825f645b58",
   "metadata": {},
   "outputs": [],
   "source": [
    "visualizer = DataVisualizer()\n",
    "# selected_users = [\"5okimXt6noCIcD4DGoB13wzXVJjY\", \"ys7YzmWeX0tKr1ilsXMiNaiZxGTk\"]  # Use None to plot data for all users\n",
    "visualizer.set_user_ids([\"7uMKVmPZdwgtb9hc6r9YZyYXnwc2\"])\n",
    "# visualizer.set_date_range(\"2024-01-01\", \"2023-03-31\")\n",
    "visualizer.set_y_bounds(0, 120)\n",
    "\n",
    "fig = visualizer.create_static_plot(processed_fhir_dataframe)"
   ]
  },
  {
   "cell_type": "markdown",
   "id": "a91e9dce-e956-4694-8880-cf4508ccd8ae",
   "metadata": {},
   "source": [
    "## Export data"
   ]
  },
  {
   "cell_type": "code",
   "execution_count": null,
   "id": "d1bd3d6a-1aec-4bdc-9325-7c85efba0ff3",
   "metadata": {},
   "outputs": [],
   "source": [
    "exporter = DataExporter(processed_fhir_dataframe)\n",
    "# selected_users = [\"sEmijWpn0vXe1cj60GO5kkjkrdT4\"] \n",
    "# exporter.set_user_ids(selected_users)\n",
    "# exporter.set_date_range(\"2022-01-01\", \"2022-12-31\")\n",
    "# exporter.set_y_bounds(50, 700)\n",
    "exporter.create_and_save_plot(\"data_plot.tif\")"
   ]
  }
 ],
 "metadata": {
  "kernelspec": {
   "display_name": "Python 3 (ipykernel)",
   "language": "python",
   "name": "python3"
  },
  "language_info": {
   "codemirror_mode": {
    "name": "ipython",
    "version": 3
   },
   "file_extension": ".py",
   "mimetype": "text/x-python",
   "name": "python",
   "nbconvert_exporter": "python",
   "pygments_lexer": "ipython3",
   "version": "3.10.9"
  }
 },
 "nbformat": 4,
 "nbformat_minor": 5
}
