{
<<<<<<< HEAD
 "cells": [
  {
   "cell_type": "markdown",
   "id": "1b4070c1-59f7-474e-8ea1-156cd42ef811",
   "metadata": {},
   "source": [
    "# Step 1: Import necessary libraries\n"
   ]
  },
  {
   "cell_type": "code",
   "execution_count": 1,
   "id": "3da82a85-6035-4757-a666-e56b5f270513",
   "metadata": {},
   "outputs": [],
   "source": [
    "import firebase_admin\n",
    "from firebase_admin import credentials, db, firestore\n",
    "import requests\n",
    "import os"
   ]
  },
  {
   "cell_type": "markdown",
   "id": "675bce8c-450c-419f-a755-afd21389c996",
   "metadata": {},
   "source": [
    "## Import the helpers.py file to our working directory"
   ]
  },
  {
   "cell_type": "code",
   "execution_count": 2,
   "id": "edcac52d-8b5d-4919-ba46-36045edcc377",
   "metadata": {},
   "outputs": [],
   "source": [
    "# url = 'https://raw.githubusercontent.com/StanfordSpezi/SpeziDataPipeline/main/helpers.py'\n",
    "\n",
    "# # Send a GET request to the URL\n",
    "# r = requests.get(url)\n",
    "\n",
    "# # Open a file and write the contents of the response\n",
    "# with open('helpers.py', 'wb') as f:\n",
    "#     f.write(r.content)\n",
    "\n",
    "from helpers import *"
   ]
  },
  {
   "cell_type": "markdown",
   "id": "c3623d09-656a-4abe-a4b9-a433ec86a91c",
   "metadata": {},
   "source": [
    "# Step 2: Establish Connection to Firebase\n"
   ]
  },
  {
   "cell_type": "code",
   "execution_count": 2,
   "id": "e844a4e1-1d9e-4c4a-a6a5-46da5b08f17c",
   "metadata": {},
   "outputs": [],
   "source": [
    "# Set your service account credentials\n",
    "serviceAccountKey_file = 'path/to/serviceAccountKey.json' # This file contains your Firebase project's credentials\n",
    "\n",
    "# Define your Firebase project ID\n",
    "project_id = 'spezidatapipelinetemplate' \n",
    "\n",
    "collection_name = 'users'\n",
    "\n",
    "# Check if running in CI environment\n",
    "if True: #os.getenv('CI') or \"FIRESTORE_EMULATOR_HOST\" in os.environ:\n",
    "    \n",
    "    # Point to the emulator for CI tests\n",
    "    # os.environ[\"FIRESTORE_EMULATOR_HOST\"] = \"localhost:8080\"\n",
    "    os.environ[\"GCLOUD_PROJECT\"] = project_id\n",
    "    firebase_admin.initialize_app(options={'projectId': project_id})\n",
    "    db = firestore.Client(project=project_id)\n",
    "    \n",
    "    \n",
    "else: # Connect to the production environment\n",
    "    if not firebase_admin._apps:  # Check if a Firebase app has already been initialized to prevent reinitialization\n",
    "        # These credentials allow your application to authenticate with Firebase\n",
    "        cred = credentials.Certificate(serviceAccountKey_file)\n",
    "        \n",
    "        # Initialize your Firebase app with the credentials\n",
    "        # This step is necessary to interact with Firebase services, including Firestore\n",
    "        firebase_admin.initialize_app(cred)\n",
    "        db = firestore.client()\n",
    "      "
   ]
  },
  {
   "cell_type": "markdown",
   "id": "425d2852-a510-4dc0-a90c-b49cd269f9f4",
   "metadata": {},
   "source": [
    "# Step 3: Access Data on Firestore"
   ]
  },
  {
   "cell_type": "markdown",
   "id": "6a8c904a-2d6b-4216-afd6-0fdd739421e4",
   "metadata": {},
   "source": [
    "## Print Users Summary"
   ]
  },
  {
   "cell_type": "code",
   "execution_count": null,
   "id": "dc69d5fe-b231-4c6b-94b8-16c2f5e13b13",
   "metadata": {},
   "outputs": [],
   "source": [
    "users = export_users_to_csv(db, collection_name, 'users_summary.csv')\n",
    "users.head()"
   ]
  },
  {
   "cell_type": "markdown",
   "id": "c8af7d21-4005-44a0-9133-83f3e4999a41",
   "metadata": {},
   "source": [
    "## Get data from a single HealthKit document of a user"
   ]
  },
  {
   "cell_type": "code",
   "execution_count": null,
   "id": "4e317538-ff47-4cd5-9600-954bd9e31475",
   "metadata": {},
   "outputs": [],
   "source": [
    "# Reference to the specified document\n",
    "doc_ref = db.collection('users')\\\n",
    "    .document('Du3CdrAooIL4sDQajeOt9j0HlPyK')\\\n",
    "    .collection('HealthKit')\\\n",
    "    .document('0960a652-602e-47aa-8381-955d95581922')\n",
    "\n",
    "doc = doc_ref.get()\n",
    "\n",
    "if doc.exists:\n",
    "    doc_dict = doc.to_dict()\n",
    "    print(doc_dict)\n",
    "else:\n",
    "    print(\"Document not found.\")"
   ]
  },
  {
   "cell_type": "markdown",
   "id": "e51e6fb4-6b38-43bf-854d-8ea0b1285e65",
   "metadata": {},
   "source": [
    "## Explore Data Quantity Types in the Database"
   ]
  },
  {
   "cell_type": "code",
   "execution_count": null,
   "id": "cf179c80-22fd-431d-ba9e-8af738f42eb5",
   "metadata": {},
   "outputs": [],
   "source": [
    "unique_loinc_codes, display_to_loinc_dict = get_unique_codes_and_displays(db, collection_name)\n",
    "print(display_to_loinc_dict)"
   ]
  },
  {
   "cell_type": "markdown",
   "id": "fadff7a1-c34e-4c11-b0bc-1cab5e9a7a29",
   "metadata": {},
   "source": [
    "## Fetch and flatten for a selected data type for all users"
   ]
  },
  {
   "cell_type": "code",
   "execution_count": 5,
   "id": "76962068-a60f-4587-8cca-512ff89e244c",
   "metadata": {},
   "outputs": [
    {
     "ename": "PermissionDenied",
     "evalue": "403 Permission denied on resource project spezidatapipelinetemplate. [links {\n  description: \"Google developer console API key\"\n  url: \"https://console.developers.google.com/project/spezidatapipelinetemplate/apiui/credential\"\n}\n, reason: \"CONSUMER_INVALID\"\ndomain: \"googleapis.com\"\nmetadata {\n  key: \"consumer\"\n  value: \"projects/spezidatapipelinetemplate\"\n}\nmetadata {\n  key: \"service\"\n  value: \"firestore.googleapis.com\"\n}\n]",
     "output_type": "error",
     "traceback": [
      "\u001b[0;31m---------------------------------------------------------------------------\u001b[0m",
      "\u001b[0;31m_MultiThreadedRendezvous\u001b[0m                  Traceback (most recent call last)",
      "\u001b[0;32m/opt/anaconda3/lib/python3.7/site-packages/google/api_core/grpc_helpers.py\u001b[0m in \u001b[0;36merror_remapped_callable\u001b[0;34m(*args, **kwargs)\u001b[0m\n\u001b[1;32m    173\u001b[0m             return _StreamingResponseIterator(\n\u001b[0;32m--> 174\u001b[0;31m                 \u001b[0mresult\u001b[0m\u001b[0;34m,\u001b[0m \u001b[0mprefetch_first_result\u001b[0m\u001b[0;34m=\u001b[0m\u001b[0mprefetch_first\u001b[0m\u001b[0;34m\u001b[0m\u001b[0;34m\u001b[0m\u001b[0m\n\u001b[0m\u001b[1;32m    175\u001b[0m             )\n",
      "\u001b[0;32m/opt/anaconda3/lib/python3.7/site-packages/google/api_core/grpc_helpers.py\u001b[0m in \u001b[0;36m__init__\u001b[0;34m(self, wrapped, prefetch_first_result)\u001b[0m\n\u001b[1;32m     94\u001b[0m             \u001b[0;32mif\u001b[0m \u001b[0mprefetch_first_result\u001b[0m\u001b[0;34m:\u001b[0m\u001b[0;34m\u001b[0m\u001b[0;34m\u001b[0m\u001b[0m\n\u001b[0;32m---> 95\u001b[0;31m                 \u001b[0mself\u001b[0m\u001b[0;34m.\u001b[0m\u001b[0m_stored_first_result\u001b[0m \u001b[0;34m=\u001b[0m \u001b[0mnext\u001b[0m\u001b[0;34m(\u001b[0m\u001b[0mself\u001b[0m\u001b[0;34m.\u001b[0m\u001b[0m_wrapped\u001b[0m\u001b[0;34m)\u001b[0m\u001b[0;34m\u001b[0m\u001b[0;34m\u001b[0m\u001b[0m\n\u001b[0m\u001b[1;32m     96\u001b[0m         \u001b[0;32mexcept\u001b[0m \u001b[0mTypeError\u001b[0m\u001b[0;34m:\u001b[0m\u001b[0;34m\u001b[0m\u001b[0;34m\u001b[0m\u001b[0m\n",
      "\u001b[0;32m/opt/anaconda3/lib/python3.7/site-packages/grpc/_channel.py\u001b[0m in \u001b[0;36m__next__\u001b[0;34m(self)\u001b[0m\n\u001b[1;32m    539\u001b[0m     \u001b[0;32mdef\u001b[0m \u001b[0m__next__\u001b[0m\u001b[0;34m(\u001b[0m\u001b[0mself\u001b[0m\u001b[0;34m)\u001b[0m\u001b[0;34m:\u001b[0m\u001b[0;34m\u001b[0m\u001b[0;34m\u001b[0m\u001b[0m\n\u001b[0;32m--> 540\u001b[0;31m         \u001b[0;32mreturn\u001b[0m \u001b[0mself\u001b[0m\u001b[0;34m.\u001b[0m\u001b[0m_next\u001b[0m\u001b[0;34m(\u001b[0m\u001b[0;34m)\u001b[0m\u001b[0;34m\u001b[0m\u001b[0;34m\u001b[0m\u001b[0m\n\u001b[0m\u001b[1;32m    541\u001b[0m \u001b[0;34m\u001b[0m\u001b[0m\n",
      "\u001b[0;32m/opt/anaconda3/lib/python3.7/site-packages/grpc/_channel.py\u001b[0m in \u001b[0;36m_next\u001b[0;34m(self)\u001b[0m\n\u001b[1;32m    965\u001b[0m                 \u001b[0;32melif\u001b[0m \u001b[0mself\u001b[0m\u001b[0;34m.\u001b[0m\u001b[0m_state\u001b[0m\u001b[0;34m.\u001b[0m\u001b[0mcode\u001b[0m \u001b[0;32mis\u001b[0m \u001b[0;32mnot\u001b[0m \u001b[0;32mNone\u001b[0m\u001b[0;34m:\u001b[0m\u001b[0;34m\u001b[0m\u001b[0;34m\u001b[0m\u001b[0m\n\u001b[0;32m--> 966\u001b[0;31m                     \u001b[0;32mraise\u001b[0m \u001b[0mself\u001b[0m\u001b[0;34m\u001b[0m\u001b[0;34m\u001b[0m\u001b[0m\n\u001b[0m\u001b[1;32m    967\u001b[0m \u001b[0;34m\u001b[0m\u001b[0m\n",
      "\u001b[0;31m_MultiThreadedRendezvous\u001b[0m: <_MultiThreadedRendezvous of RPC that terminated with:\n\tstatus = StatusCode.PERMISSION_DENIED\n\tdetails = \"Permission denied on resource project spezidatapipelinetemplate.\"\n\tdebug_error_string = \"UNKNOWN:Error received from peer ipv4:142.251.46.202:443 {created_time:\"2024-02-27T13:09:47.059925-08:00\", grpc_status:7, grpc_message:\"Permission denied on resource project spezidatapipelinetemplate.\"}\"\n>",
      "\nThe above exception was the direct cause of the following exception:\n",
      "\u001b[0;31mPermissionDenied\u001b[0m                          Traceback (most recent call last)",
      "\u001b[0;32m/var/folders/f1/gx4c7529291490zqvmt2m7j40000gn/T/ipykernel_86250/4199420329.py\u001b[0m in \u001b[0;36m<module>\u001b[0;34m\u001b[0m\n\u001b[1;32m      1\u001b[0m \u001b[0mselected_code\u001b[0m \u001b[0;34m=\u001b[0m \u001b[0;34m'55423-8'\u001b[0m\u001b[0;34m\u001b[0m\u001b[0;34m\u001b[0m\u001b[0m\n\u001b[1;32m      2\u001b[0m \u001b[0;34m\u001b[0m\u001b[0m\n\u001b[0;32m----> 3\u001b[0;31m \u001b[0mflattened_df\u001b[0m \u001b[0;34m=\u001b[0m \u001b[0mfetch_and_flatten_data\u001b[0m\u001b[0;34m(\u001b[0m\u001b[0mdb\u001b[0m\u001b[0;34m,\u001b[0m \u001b[0mcollection_name\u001b[0m\u001b[0;34m,\u001b[0m \u001b[0mselected_code\u001b[0m\u001b[0;34m)\u001b[0m\u001b[0;34m\u001b[0m\u001b[0;34m\u001b[0m\u001b[0m\n\u001b[0m",
      "\u001b[0;32m~/Desktop/Work/Stanford/Data pipeline project/Spezi Data Pipeline Template/helpers.py\u001b[0m in \u001b[0;36mfetch_and_flatten_data\u001b[0;34m(reference_db, collection_name, input_code, save_as_csv)\u001b[0m\n\u001b[1;32m    184\u001b[0m     \u001b[0musers\u001b[0m \u001b[0;34m=\u001b[0m \u001b[0mreference_db\u001b[0m\u001b[0;34m.\u001b[0m\u001b[0mcollection\u001b[0m\u001b[0;34m(\u001b[0m\u001b[0mcollection_name\u001b[0m\u001b[0;34m)\u001b[0m\u001b[0;34m.\u001b[0m\u001b[0mstream\u001b[0m\u001b[0;34m(\u001b[0m\u001b[0;34m)\u001b[0m\u001b[0;34m\u001b[0m\u001b[0;34m\u001b[0m\u001b[0m\n\u001b[1;32m    185\u001b[0m \u001b[0;34m\u001b[0m\u001b[0m\n\u001b[0;32m--> 186\u001b[0;31m     \u001b[0;32mfor\u001b[0m \u001b[0muser\u001b[0m \u001b[0;32min\u001b[0m \u001b[0musers\u001b[0m\u001b[0;34m:\u001b[0m\u001b[0;34m\u001b[0m\u001b[0;34m\u001b[0m\u001b[0m\n\u001b[0m\u001b[1;32m    187\u001b[0m         \u001b[0mhealthkit_ref\u001b[0m \u001b[0;34m=\u001b[0m \u001b[0mreference_db\u001b[0m\u001b[0;34m.\u001b[0m\u001b[0mcollection\u001b[0m\u001b[0;34m(\u001b[0m\u001b[0mcollection_name\u001b[0m\u001b[0;34m)\u001b[0m\u001b[0;34m.\u001b[0m\u001b[0mdocument\u001b[0m\u001b[0;34m(\u001b[0m\u001b[0muser\u001b[0m\u001b[0;34m.\u001b[0m\u001b[0mid\u001b[0m\u001b[0;34m)\u001b[0m\u001b[0;34m.\u001b[0m\u001b[0mcollection\u001b[0m\u001b[0;34m(\u001b[0m\u001b[0;34m'HealthKit'\u001b[0m\u001b[0;34m)\u001b[0m\u001b[0;34m\u001b[0m\u001b[0;34m\u001b[0m\u001b[0m\n\u001b[1;32m    188\u001b[0m         \u001b[0mhealthkit_docs\u001b[0m \u001b[0;34m=\u001b[0m \u001b[0mhealthkit_ref\u001b[0m\u001b[0;34m.\u001b[0m\u001b[0mstream\u001b[0m\u001b[0;34m(\u001b[0m\u001b[0;34m)\u001b[0m\u001b[0;34m\u001b[0m\u001b[0;34m\u001b[0m\u001b[0m\n",
      "\u001b[0;32m/opt/anaconda3/lib/python3.7/site-packages/google/cloud/firestore_v1/query.py\u001b[0m in \u001b[0;36mstream\u001b[0;34m(self, transaction, retry, timeout)\u001b[0m\n\u001b[1;32m    321\u001b[0m             \u001b[0mtransaction\u001b[0m\u001b[0;34m,\u001b[0m\u001b[0;34m\u001b[0m\u001b[0;34m\u001b[0m\u001b[0m\n\u001b[1;32m    322\u001b[0m             \u001b[0mretry\u001b[0m\u001b[0;34m,\u001b[0m\u001b[0;34m\u001b[0m\u001b[0;34m\u001b[0m\u001b[0m\n\u001b[0;32m--> 323\u001b[0;31m             \u001b[0mtimeout\u001b[0m\u001b[0;34m,\u001b[0m\u001b[0;34m\u001b[0m\u001b[0;34m\u001b[0m\u001b[0m\n\u001b[0m\u001b[1;32m    324\u001b[0m         )\n\u001b[1;32m    325\u001b[0m \u001b[0;34m\u001b[0m\u001b[0m\n",
      "\u001b[0;32m/opt/anaconda3/lib/python3.7/site-packages/google/cloud/firestore_v1/query.py\u001b[0m in \u001b[0;36m_get_stream_iterator\u001b[0;34m(self, transaction, retry, timeout)\u001b[0m\n\u001b[1;32m    224\u001b[0m             \u001b[0mrequest\u001b[0m\u001b[0;34m=\u001b[0m\u001b[0mrequest\u001b[0m\u001b[0;34m,\u001b[0m\u001b[0;34m\u001b[0m\u001b[0;34m\u001b[0m\u001b[0m\n\u001b[1;32m    225\u001b[0m             \u001b[0mmetadata\u001b[0m\u001b[0;34m=\u001b[0m\u001b[0mself\u001b[0m\u001b[0;34m.\u001b[0m\u001b[0m_client\u001b[0m\u001b[0;34m.\u001b[0m\u001b[0m_rpc_metadata\u001b[0m\u001b[0;34m,\u001b[0m\u001b[0;34m\u001b[0m\u001b[0;34m\u001b[0m\u001b[0m\n\u001b[0;32m--> 226\u001b[0;31m             \u001b[0;34m**\u001b[0m\u001b[0mkwargs\u001b[0m\u001b[0;34m,\u001b[0m\u001b[0;34m\u001b[0m\u001b[0;34m\u001b[0m\u001b[0m\n\u001b[0m\u001b[1;32m    227\u001b[0m         )\n\u001b[1;32m    228\u001b[0m \u001b[0;34m\u001b[0m\u001b[0m\n",
      "\u001b[0;32m/opt/anaconda3/lib/python3.7/site-packages/google/cloud/firestore_v1/services/firestore/client.py\u001b[0m in \u001b[0;36mrun_query\u001b[0;34m(self, request, retry, timeout, metadata)\u001b[0m\n\u001b[1;32m   1317\u001b[0m             \u001b[0mretry\u001b[0m\u001b[0;34m=\u001b[0m\u001b[0mretry\u001b[0m\u001b[0;34m,\u001b[0m\u001b[0;34m\u001b[0m\u001b[0;34m\u001b[0m\u001b[0m\n\u001b[1;32m   1318\u001b[0m             \u001b[0mtimeout\u001b[0m\u001b[0;34m=\u001b[0m\u001b[0mtimeout\u001b[0m\u001b[0;34m,\u001b[0m\u001b[0;34m\u001b[0m\u001b[0;34m\u001b[0m\u001b[0m\n\u001b[0;32m-> 1319\u001b[0;31m             \u001b[0mmetadata\u001b[0m\u001b[0;34m=\u001b[0m\u001b[0mmetadata\u001b[0m\u001b[0;34m,\u001b[0m\u001b[0;34m\u001b[0m\u001b[0;34m\u001b[0m\u001b[0m\n\u001b[0m\u001b[1;32m   1320\u001b[0m         )\n\u001b[1;32m   1321\u001b[0m \u001b[0;34m\u001b[0m\u001b[0m\n",
      "\u001b[0;32m/opt/anaconda3/lib/python3.7/site-packages/google/api_core/gapic_v1/method.py\u001b[0m in \u001b[0;36m__call__\u001b[0;34m(self, timeout, retry, compression, *args, **kwargs)\u001b[0m\n\u001b[1;32m    129\u001b[0m             \u001b[0mkwargs\u001b[0m\u001b[0;34m[\u001b[0m\u001b[0;34m\"compression\"\u001b[0m\u001b[0;34m]\u001b[0m \u001b[0;34m=\u001b[0m \u001b[0mcompression\u001b[0m\u001b[0;34m\u001b[0m\u001b[0;34m\u001b[0m\u001b[0m\n\u001b[1;32m    130\u001b[0m \u001b[0;34m\u001b[0m\u001b[0m\n\u001b[0;32m--> 131\u001b[0;31m         \u001b[0;32mreturn\u001b[0m \u001b[0mwrapped_func\u001b[0m\u001b[0;34m(\u001b[0m\u001b[0;34m*\u001b[0m\u001b[0margs\u001b[0m\u001b[0;34m,\u001b[0m \u001b[0;34m**\u001b[0m\u001b[0mkwargs\u001b[0m\u001b[0;34m)\u001b[0m\u001b[0;34m\u001b[0m\u001b[0;34m\u001b[0m\u001b[0m\n\u001b[0m\u001b[1;32m    132\u001b[0m \u001b[0;34m\u001b[0m\u001b[0m\n\u001b[1;32m    133\u001b[0m \u001b[0;34m\u001b[0m\u001b[0m\n",
      "\u001b[0;32m/opt/anaconda3/lib/python3.7/site-packages/google/api_core/retry.py\u001b[0m in \u001b[0;36mretry_wrapped_func\u001b[0;34m(*args, **kwargs)\u001b[0m\n\u001b[1;32m    375\u001b[0m                 \u001b[0msleep_generator\u001b[0m\u001b[0;34m,\u001b[0m\u001b[0;34m\u001b[0m\u001b[0;34m\u001b[0m\u001b[0m\n\u001b[1;32m    376\u001b[0m                 \u001b[0mself\u001b[0m\u001b[0;34m.\u001b[0m\u001b[0m_timeout\u001b[0m\u001b[0;34m,\u001b[0m\u001b[0;34m\u001b[0m\u001b[0;34m\u001b[0m\u001b[0m\n\u001b[0;32m--> 377\u001b[0;31m                 \u001b[0mon_error\u001b[0m\u001b[0;34m=\u001b[0m\u001b[0mon_error\u001b[0m\u001b[0;34m,\u001b[0m\u001b[0;34m\u001b[0m\u001b[0;34m\u001b[0m\u001b[0m\n\u001b[0m\u001b[1;32m    378\u001b[0m             )\n\u001b[1;32m    379\u001b[0m \u001b[0;34m\u001b[0m\u001b[0m\n",
      "\u001b[0;32m/opt/anaconda3/lib/python3.7/site-packages/google/api_core/retry.py\u001b[0m in \u001b[0;36mretry_target\u001b[0;34m(target, predicate, sleep_generator, timeout, on_error, **kwargs)\u001b[0m\n\u001b[1;32m    205\u001b[0m     \u001b[0;32mfor\u001b[0m \u001b[0msleep\u001b[0m \u001b[0;32min\u001b[0m \u001b[0msleep_generator\u001b[0m\u001b[0;34m:\u001b[0m\u001b[0;34m\u001b[0m\u001b[0;34m\u001b[0m\u001b[0m\n\u001b[1;32m    206\u001b[0m         \u001b[0;32mtry\u001b[0m\u001b[0;34m:\u001b[0m\u001b[0;34m\u001b[0m\u001b[0;34m\u001b[0m\u001b[0m\n\u001b[0;32m--> 207\u001b[0;31m             \u001b[0mresult\u001b[0m \u001b[0;34m=\u001b[0m \u001b[0mtarget\u001b[0m\u001b[0;34m(\u001b[0m\u001b[0;34m)\u001b[0m\u001b[0;34m\u001b[0m\u001b[0;34m\u001b[0m\u001b[0m\n\u001b[0m\u001b[1;32m    208\u001b[0m             \u001b[0;32mif\u001b[0m \u001b[0minspect\u001b[0m\u001b[0;34m.\u001b[0m\u001b[0misawaitable\u001b[0m\u001b[0;34m(\u001b[0m\u001b[0mresult\u001b[0m\u001b[0;34m)\u001b[0m\u001b[0;34m:\u001b[0m\u001b[0;34m\u001b[0m\u001b[0;34m\u001b[0m\u001b[0m\n\u001b[1;32m    209\u001b[0m                 \u001b[0mwarnings\u001b[0m\u001b[0;34m.\u001b[0m\u001b[0mwarn\u001b[0m\u001b[0;34m(\u001b[0m\u001b[0m_ASYNC_RETRY_WARNING\u001b[0m\u001b[0;34m)\u001b[0m\u001b[0;34m\u001b[0m\u001b[0;34m\u001b[0m\u001b[0m\n",
      "\u001b[0;32m/opt/anaconda3/lib/python3.7/site-packages/google/api_core/timeout.py\u001b[0m in \u001b[0;36mfunc_with_timeout\u001b[0;34m(*args, **kwargs)\u001b[0m\n\u001b[1;32m    118\u001b[0m                 \u001b[0mkwargs\u001b[0m\u001b[0;34m[\u001b[0m\u001b[0;34m\"timeout\"\u001b[0m\u001b[0;34m]\u001b[0m \u001b[0;34m=\u001b[0m \u001b[0mmax\u001b[0m\u001b[0;34m(\u001b[0m\u001b[0;36m0\u001b[0m\u001b[0;34m,\u001b[0m \u001b[0mself\u001b[0m\u001b[0;34m.\u001b[0m\u001b[0m_timeout\u001b[0m \u001b[0;34m-\u001b[0m \u001b[0mtime_since_first_attempt\u001b[0m\u001b[0;34m)\u001b[0m\u001b[0;34m\u001b[0m\u001b[0;34m\u001b[0m\u001b[0m\n\u001b[1;32m    119\u001b[0m \u001b[0;34m\u001b[0m\u001b[0m\n\u001b[0;32m--> 120\u001b[0;31m             \u001b[0;32mreturn\u001b[0m \u001b[0mfunc\u001b[0m\u001b[0;34m(\u001b[0m\u001b[0;34m*\u001b[0m\u001b[0margs\u001b[0m\u001b[0;34m,\u001b[0m \u001b[0;34m**\u001b[0m\u001b[0mkwargs\u001b[0m\u001b[0;34m)\u001b[0m\u001b[0;34m\u001b[0m\u001b[0;34m\u001b[0m\u001b[0m\n\u001b[0m\u001b[1;32m    121\u001b[0m \u001b[0;34m\u001b[0m\u001b[0m\n\u001b[1;32m    122\u001b[0m         \u001b[0;32mreturn\u001b[0m \u001b[0mfunc_with_timeout\u001b[0m\u001b[0;34m\u001b[0m\u001b[0;34m\u001b[0m\u001b[0m\n",
      "\u001b[0;32m/opt/anaconda3/lib/python3.7/site-packages/google/api_core/grpc_helpers.py\u001b[0m in \u001b[0;36merror_remapped_callable\u001b[0;34m(*args, **kwargs)\u001b[0m\n\u001b[1;32m    175\u001b[0m             )\n\u001b[1;32m    176\u001b[0m         \u001b[0;32mexcept\u001b[0m \u001b[0mgrpc\u001b[0m\u001b[0;34m.\u001b[0m\u001b[0mRpcError\u001b[0m \u001b[0;32mas\u001b[0m \u001b[0mexc\u001b[0m\u001b[0;34m:\u001b[0m\u001b[0;34m\u001b[0m\u001b[0;34m\u001b[0m\u001b[0m\n\u001b[0;32m--> 177\u001b[0;31m             \u001b[0;32mraise\u001b[0m \u001b[0mexceptions\u001b[0m\u001b[0;34m.\u001b[0m\u001b[0mfrom_grpc_error\u001b[0m\u001b[0;34m(\u001b[0m\u001b[0mexc\u001b[0m\u001b[0;34m)\u001b[0m \u001b[0;32mfrom\u001b[0m \u001b[0mexc\u001b[0m\u001b[0;34m\u001b[0m\u001b[0;34m\u001b[0m\u001b[0m\n\u001b[0m\u001b[1;32m    178\u001b[0m \u001b[0;34m\u001b[0m\u001b[0m\n\u001b[1;32m    179\u001b[0m     \u001b[0;32mreturn\u001b[0m \u001b[0merror_remapped_callable\u001b[0m\u001b[0;34m\u001b[0m\u001b[0;34m\u001b[0m\u001b[0m\n",
      "\u001b[0;31mPermissionDenied\u001b[0m: 403 Permission denied on resource project spezidatapipelinetemplate. [links {\n  description: \"Google developer console API key\"\n  url: \"https://console.developers.google.com/project/spezidatapipelinetemplate/apiui/credential\"\n}\n, reason: \"CONSUMER_INVALID\"\ndomain: \"googleapis.com\"\nmetadata {\n  key: \"consumer\"\n  value: \"projects/spezidatapipelinetemplate\"\n}\nmetadata {\n  key: \"service\"\n  value: \"firestore.googleapis.com\"\n}\n]"
     ]
    }
   ],
   "source": [
    "selected_code = '55423-8'\n",
    "\n",
    "flattened_df = fetch_and_flatten_data(db, collection_name, selected_code)   "
   ]
  },
  {
   "cell_type": "code",
   "execution_count": null,
   "id": "1b2afd88-10fc-4213-b267-773cca6e5ef6",
   "metadata": {},
   "outputs": [],
   "source": [
    "flattened_df.head()"
   ]
  },
  {
   "cell_type": "markdown",
   "id": "43b810f4-7001-4062-9f28-541e97528853",
   "metadata": {},
   "source": [
    "# Step 4: Analyze data"
   ]
  },
  {
   "cell_type": "markdown",
   "id": "c5d5d3ec-0100-4305-9a59-779302e15706",
   "metadata": {},
   "source": [
    "## Filter data by removing values outside a predefined range/threshold"
   ]
  },
  {
   "cell_type": "code",
   "execution_count": null,
   "id": "e627901c-f465-4dbd-945e-35ace2db24af",
   "metadata": {},
   "outputs": [],
   "source": [
    "filtered_df = remove_outliers(flattened_df)       "
   ]
  },
  {
   "cell_type": "markdown",
   "id": "ab01cf7b-623d-4f56-857f-bb16e4973926",
   "metadata": {},
   "source": [
    "## Aggregate data by date for each user"
   ]
  },
  {
   "cell_type": "code",
   "execution_count": null,
   "id": "b3fca1d1-7540-4b8b-a6ba-1e75a2e80d62",
   "metadata": {},
   "outputs": [],
   "source": [
    "daily_df = calculate_daily_data(filtered_df, save_as_csv=True) "
   ]
  },
  {
   "cell_type": "code",
   "execution_count": null,
   "id": "a68ba836-3f77-4a66-90f6-ec781aad13ea",
   "metadata": {},
   "outputs": [],
   "source": [
    "daily_df.head()"
   ]
  },
  {
   "cell_type": "markdown",
   "id": "4ed7f266-cc73-49e2-8a0e-afa4c7dc26db",
   "metadata": {},
   "source": [
    "# Plot data for a selected user and export figure"
   ]
  },
  {
   "cell_type": "code",
   "execution_count": null,
   "id": "e2611c9e-b97d-43b9-998c-629be6948828",
   "metadata": {},
   "outputs": [],
   "source": [
    "selected_user = '5okimXt6noCIcD4DGoB13wzXVJjY'\n",
    "plot_and_export_data(daily_df, date1=None, date2=None, user_id=selected_user, y_lower=None, y_upper=None, same_plot=True, save_as_tif=True)"
   ]
  },
  {
   "cell_type": "markdown",
   "id": "a814801f-de36-4b23-b753-3ee7ff0a68fb",
   "metadata": {},
   "source": [
    "# Single-line code option: analyze_data() func"
   ]
  },
  {
   "cell_type": "code",
   "execution_count": null,
   "id": "638ec1d4-c2e4-47d3-8a72-a40fd9bcda93",
   "metadata": {},
   "outputs": [],
   "source": [
    "flattened_data, filtered_data, daily_data = analyze_data(db, collection_name)"
   ]
  },
  {
   "cell_type": "code",
   "execution_count": null,
   "id": "b6d88fa6-6313-4442-bca3-f39eb4af498c",
   "metadata": {},
   "outputs": [],
   "source": [
    "daily_data['daily_df_HKQuantityTypeIdentifierDietaryProtein'].head()"
   ]
  },
  {
   "cell_type": "markdown",
   "id": "6e91ed96-c86e-4486-ab28-ef55fdd1947e",
   "metadata": {},
   "source": [
    "# Visualize Data"
   ]
  },
  {
   "cell_type": "code",
   "execution_count": null,
   "id": "5a09ab04-4c93-44dd-b95c-1b825f645b58",
   "metadata": {},
   "outputs": [],
   "source": [
    "vizualize_data(daily_data)"
   ]
  }
 ],
 "metadata": {
  "kernelspec": {
   "display_name": "Python 3 (ipykernel)",
   "language": "python",
   "name": "python3"
  },
  "language_info": {
   "codemirror_mode": {
    "name": "ipython",
    "version": 3
   },
   "file_extension": ".py",
   "mimetype": "text/x-python",
   "name": "python",
   "nbconvert_exporter": "python",
   "pygments_lexer": "ipython3",
   "version": "3.7.16"
  }
 },
 "nbformat": 4,
 "nbformat_minor": 5
}
<<<<<<< HEAD
=======
  "cells": [
   {
    "cell_type": "markdown",
    "id": "1b4070c1-59f7-474e-8ea1-156cd42ef811",
    "metadata": {},
    "source": [
     "# Step 1: Import necessary libraries\n"
    ]
   },
   {
    "cell_type": "code",
    "execution_count": 1,
    "id": "3da82a85-6035-4757-a666-e56b5f270513",
    "metadata": {},
    "outputs": [],
    "source": [
     "import firebase_admin\n",
     "from firebase_admin import credentials, db, firestore\n",
     "import requests"
    ]
   },
   {
    "cell_type": "markdown",
    "id": "675bce8c-450c-419f-a755-afd21389c996",
    "metadata": {},
    "source": [
     "## Import the helpers.py file to our working directory"
    ]
   },
   {
    "cell_type": "code",
    "execution_count": null,
    "id": "edcac52d-8b5d-4919-ba46-36045edcc377",
    "metadata": {},
    "outputs": [],
    "source": [
     "# url = 'https://raw.githubusercontent.com/StanfordSpezi/SpeziDataPipeline/main/helpers.py'\n",
     "\n",
     "# # Send a GET request to the URL\n",
     "# r = requests.get(url)\n",
     "\n",
     "# # Open a file and write the contents of the response\n",
     "# with open('helpers.py', 'wb') as f:\n",
     "#     f.write(r.content)\n",
     "\n",
     "from helpers import *"
    ]
   },
   {
    "cell_type": "markdown",
    "id": "c3623d09-656a-4abe-a4b9-a433ec86a91c",
    "metadata": {},
    "source": [
     "# Step 2: Establish Connection to Firebase\n"
    ]
   },
   {
    "cell_type": "code",
    "execution_count": null,
    "id": "e844a4e1-1d9e-4c4a-a6a5-46da5b08f17c",
    "metadata": {},
    "outputs": [],
    "source": [
     "# Define the path to your service account key file\n",
     "serviceAccountKey_file = 'path/to/serviceAccountKey.json' # This file contains your Firebase project's credentials\n",
     "\n",
     "# Define your Firebase project ID\n",
     "project_id = 'projectId' \n",
     "\n",
     "# Define the name of the Firestore collection you want to work with\n",
     "collection_name = 'users'\n",
     "\n",
     "# Check if a Firebase app has already been initialized to prevent reinitialization\n",
     "# The firebase_admin._apps is a dictionary holding initialized apps, and if it's empty, it means no app is initialized\n",
     "if not firebase_admin._apps:\n",
     "    # Load your service account credentials from the specified file\n",
     "    # These credentials allow your application to authenticate with Firebase\n",
     "    cred = credentials.Certificate(serviceAccountKey_file)\n",
     "    \n",
     "    # Initialize your Firebase app with the credentials\n",
     "    # This step is necessary to interact with Firebase services, including Firestore\n",
     "    firebase_admin.initialize_app(cred)\n",
     "\n",
     "# Create a Firestore client instance\n",
     "# This object allows you to interact with your Firestore database, such as querying or updating documents\n",
     "db = firestore.client()"
    ]
   },
   {
    "cell_type": "markdown",
    "id": "425d2852-a510-4dc0-a90c-b49cd269f9f4",
    "metadata": {},
    "source": [
     "# Step 3: Access Data on Firestore"
    ]
   },
   {
    "cell_type": "markdown",
    "id": "6a8c904a-2d6b-4216-afd6-0fdd739421e4",
    "metadata": {},
    "source": [
     "## Print Users Summary"
    ]
   },
   {
    "cell_type": "code",
    "execution_count": null,
    "id": "dc69d5fe-b231-4c6b-94b8-16c2f5e13b13",
    "metadata": {},
    "outputs": [],
    "source": [
     "users = export_users_to_csv(db, collection_name, 'users_summary.csv')\n",
     "users.head()"
    ]
   },
   {
    "cell_type": "markdown",
    "id": "c8af7d21-4005-44a0-9133-83f3e4999a41",
    "metadata": {},
    "source": [
     "## Get data from a single HealthKit document of a user"
    ]
   },
   {
    "cell_type": "code",
    "execution_count": null,
    "id": "4e317538-ff47-4cd5-9600-954bd9e31475",
    "metadata": {},
    "outputs": [],
    "source": [
     "# Reference to the specified document\n",
     "doc_ref = db.collection('users')\\\n",
     "    .document('Du3CdrAooIL4sDQajeOt9j0HlPyK')\\\n",
     "    .collection('HealthKit')\\\n",
     "    .document('0960a652-602e-47aa-8381-955d95581922')\n",
     "\n",
     "doc = doc_ref.get()\n",
     "\n",
     "if doc.exists:\n",
     "    doc_dict = doc.to_dict()\n",
     "    print(doc_dict)\n",
     "else:\n",
     "    print(\"Document not found.\")"
    ]
   },
   {
    "cell_type": "markdown",
    "id": "e51e6fb4-6b38-43bf-854d-8ea0b1285e65",
    "metadata": {},
    "source": [
     "## Explore Data Quantity Types in the Database"
    ]
   },
   {
    "cell_type": "code",
    "execution_count": null,
    "id": "cf179c80-22fd-431d-ba9e-8af738f42eb5",
    "metadata": {},
    "outputs": [],
    "source": [
     "unique_loinc_codes, display_to_loinc_dict = get_unique_codes_and_displays(db, collection_name)\n",
     "print(display_to_loinc_dict)"
    ]
   },
   {
    "cell_type": "markdown",
    "id": "fadff7a1-c34e-4c11-b0bc-1cab5e9a7a29",
    "metadata": {},
    "source": [
     "## Fetch and flatten for a selected data type for all users"
    ]
   },
   {
    "cell_type": "code",
    "execution_count": null,
    "id": "76962068-a60f-4587-8cca-512ff89e244c",
    "metadata": {},
    "outputs": [],
    "source": [
     "selected_code = '55423-8'\n",
     "\n",
     "flattened_df = fetch_and_flatten_data(db, collection_name, selected_code)   "
    ]
   },
   {
    "cell_type": "code",
    "execution_count": null,
    "id": "1b2afd88-10fc-4213-b267-773cca6e5ef6",
    "metadata": {},
    "outputs": [],
    "source": [
     "flattened_df.head()"
    ]
   },
   {
    "cell_type": "markdown",
    "id": "43b810f4-7001-4062-9f28-541e97528853",
    "metadata": {},
    "source": [
     "# Step 4: Analyze data"
    ]
   },
   {
    "cell_type": "markdown",
    "id": "c5d5d3ec-0100-4305-9a59-779302e15706",
    "metadata": {},
    "source": [
     "## Filter data by removing values outside a predefined range/threshold"
    ]
   },
   {
    "cell_type": "code",
    "execution_count": null,
    "id": "e627901c-f465-4dbd-945e-35ace2db24af",
    "metadata": {},
    "outputs": [],
    "source": [
     "filtered_df = remove_outliers(flattened_df)       "
    ]
   },
   {
    "cell_type": "markdown",
    "id": "ab01cf7b-623d-4f56-857f-bb16e4973926",
    "metadata": {},
    "source": [
     "## Aggregate data by date for each user"
    ]
   },
   {
    "cell_type": "code",
    "execution_count": null,
    "id": "b3fca1d1-7540-4b8b-a6ba-1e75a2e80d62",
    "metadata": {},
    "outputs": [],
    "source": [
     "daily_df = calculate_daily_data(filtered_df, save_as_csv=True) "
    ]
   },
   {
    "cell_type": "code",
    "execution_count": null,
    "id": "a68ba836-3f77-4a66-90f6-ec781aad13ea",
    "metadata": {},
    "outputs": [],
    "source": [
     "daily_df.head()"
    ]
   },
   {
    "cell_type": "markdown",
    "id": "4ed7f266-cc73-49e2-8a0e-afa4c7dc26db",
    "metadata": {},
    "source": [
     "# Plot data for a selected user and export figure"
    ]
   },
   {
    "cell_type": "code",
    "execution_count": null,
    "id": "e2611c9e-b97d-43b9-998c-629be6948828",
    "metadata": {},
    "outputs": [],
    "source": [
     "selected_user = '5okimXt6noCIcD4DGoB13wzXVJjY'\n",
     "plot_and_export_data(daily_df, date1=None, date2=None, user_id=selected_user, y_lower=None, y_upper=None, same_plot=True, save_as_tif=True)"
    ]
   },
   {
    "cell_type": "markdown",
    "id": "a814801f-de36-4b23-b753-3ee7ff0a68fb",
    "metadata": {},
    "source": [
     "# Single-line code option: analyze_data() func"
    ]
   },
   {
    "cell_type": "code",
    "execution_count": null,
    "id": "638ec1d4-c2e4-47d3-8a72-a40fd9bcda93",
    "metadata": {},
    "outputs": [],
    "source": [
     "flattened_data, filtered_data, daily_data = analyze_data(db, collection_name)"
    ]
   },
   {
    "cell_type": "code",
    "execution_count": null,
    "id": "b6d88fa6-6313-4442-bca3-f39eb4af498c",
    "metadata": {},
    "outputs": [],
    "source": [
     "daily_data['daily_df_HKQuantityTypeIdentifierDietaryProtein'].head()"
    ]
   },
   {
    "cell_type": "markdown",
    "id": "6e91ed96-c86e-4486-ab28-ef55fdd1947e",
    "metadata": {},
    "source": [
     "# Visualize Data"
    ]
   },
   {
    "cell_type": "code",
    "execution_count": null,
    "id": "5a09ab04-4c93-44dd-b95c-1b825f645b58",
    "metadata": {},
    "outputs": [],
    "source": [
     "vizualize_data(daily_data)"
    ]
   }
  ],
  "metadata": {
   "kernelspec": {
    "display_name": "Python 3 (ipykernel)",
    "language": "python",
    "name": "python3"
   },
   "language_info": {
    "codemirror_mode": {
     "name": "ipython",
     "version": 3
    },
    "file_extension": ".py",
    "mimetype": "text/x-python",
    "name": "python",
    "nbconvert_exporter": "python",
    "pygments_lexer": "ipython3",
    "version": "3.7.16"
   }
  },
  "nbformat": 4,
  "nbformat_minor": 5
 }
>>>>>>> 51e212a... Improve Badge & Add Basic GitHub Actions (#4)
=======
>>>>>>> f9e6290... Update Build and test workflow
