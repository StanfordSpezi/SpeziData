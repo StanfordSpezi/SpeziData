{
 "cells": [
  {
   "cell_type": "markdown",
   "id": "1b4070c1-59f7-474e-8ea1-156cd42ef811",
   "metadata": {},
   "source": [
    "## Import modules\n"
   ]
  },
  {
   "cell_type": "code",
   "execution_count": null,
   "id": "3da82a85-6035-4757-a666-e56b5f270513",
   "metadata": {},
   "outputs": [],
   "source": [
    "from data_access.firebase_fhir_data_access import *\n",
    "from data_flattening.fhir_resources_flattener import *\n",
    "from data_processing.data_processor import *\n",
    "from data_visualization.data_visualizer import *\n",
    "from data_export.data_exporter import *"
   ]
  },
  {
   "cell_type": "markdown",
   "id": "c3623d09-656a-4abe-a4b9-a433ec86a91c",
   "metadata": {},
   "source": [
    "## Define credential files\n"
   ]
  },
  {
   "cell_type": "code",
   "execution_count": null,
   "id": "e844a4e1-1d9e-4c4a-a6a5-46da5b08f17c",
   "metadata": {},
   "outputs": [],
   "source": [
    "# # Define your Firebase project ID\n",
    "project_id = \"cs342-2024-example-application\" \n",
    "\n",
    "# # Define the service account key file\n",
    "# service_account_key_file = \"cs342-2024-example-application-firebase-adminsdk-z4ske-800739b1af.json\"\n",
    "\n",
    "# Define the collection name where your FHIR observations are stored and the input code if filtering is needed\n",
    "collection_name = \"users\"\n",
    "subcollection_name = \"HealthKit\"\n",
    "loinc_codes = [\"55423-8\"] # \"9052-2\", \"55423-8\", \"8867-4\""
   ]
  },
  {
   "cell_type": "markdown",
   "id": "dee3e7e7-e273-4367-b36b-6a9148ad898f",
   "metadata": {},
   "source": [
    "## Initialize the FirebaseFHIRAccess class using your Firebase credentials"
   ]
  },
  {
   "cell_type": "code",
   "execution_count": null,
   "id": "62b89662-db30-4976-8ecf-da907b0721ba",
   "metadata": {},
   "outputs": [],
   "source": [
    "firebase_access = FirebaseFHIRAccess(project_id)\n",
    "firebase_access.connect()\n",
    "\n",
    "# Fetch FHIR observations from Firestore\n",
    "fhir_observations = firebase_access.fetch_data(collection_name, subcollection_name, loinc_codes)\n",
    "\n",
    "# Flatten the fetched FHIR observations into a FHIRDataFrame\n",
    "flattened_fhir_dataframe = flatten_fhir_resources(fhir_observations)"
   ]
  },
  {
   "cell_type": "code",
   "execution_count": null,
   "id": "dc3ff815-65ed-4a08-abcb-de6dedbcb7a7",
   "metadata": {},
   "outputs": [],
   "source": [
    "flattened_fhir_dataframe.df.tail()"
   ]
  },
  {
   "cell_type": "markdown",
   "id": "43616584-8c5d-4580-baaa-59f25e5f334f",
   "metadata": {},
   "source": [
    "## Apply basic processing for convenient data readability"
   ]
  },
  {
   "cell_type": "code",
   "execution_count": null,
   "id": "2d878a15-3382-4952-83d2-0507fcff471a",
   "metadata": {},
   "outputs": [],
   "source": [
    "processed_fhir_dataframe = FHIRDataProcessor().process_fhir_data(flattened_fhir_dataframe)\n",
    "processed_fhir_dataframe.df.tail()"
   ]
  },
  {
   "cell_type": "markdown",
   "id": "6e91ed96-c86e-4486-ab28-ef55fdd1947e",
   "metadata": {},
   "source": [
    "## Visualize Data"
   ]
  },
  {
   "cell_type": "code",
   "execution_count": null,
   "id": "5a09ab04-4c93-44dd-b95c-1b825f645b58",
   "metadata": {},
   "outputs": [],
   "source": [
    "visualizer = DataVisualizer()\n",
    "# selected_users = [\"5okimXt6noCIcD4DGoB13wzXVJjY\", \"ys7YzmWeX0tKr1ilsXMiNaiZxGTk\"]  # Use None to plot data for all users\n",
    "# visualizer.set_user_ids(selected_users)\n",
    "# visualizer.set_date_range(\"2022-01-01\", \"2023-01-31\")\n",
    "visualizer.set_y_bounds(50, 500)\n",
    "\n",
    "fig = visualizer.create_static_plot(processed_fhir_dataframe)"
   ]
  },
  {
   "cell_type": "markdown",
   "id": "a91e9dce-e956-4694-8880-cf4508ccd8ae",
   "metadata": {},
   "source": [
    "## Export data"
   ]
  },
  {
   "cell_type": "code",
   "execution_count": null,
   "id": "d1bd3d6a-1aec-4bdc-9325-7c85efba0ff3",
   "metadata": {},
   "outputs": [],
   "source": [
    "exporter = DataExporter(processed_fhir_dataframe)\n",
    "# selected_users = [\"sEmijWpn0vXe1cj60GO5kkjkrdT4\"] \n",
    "# exporter.set_user_ids(selected_users)\n",
    "# exporter.set_date_range(\"2022-01-01\", \"2022-12-31\")\n",
    "# exporter.set_y_bounds(50, 700)\n",
    "exporter.create_and_save_plot(\"data_plot.tif\")"
   ]
  }
 ],
 "metadata": {
  "kernelspec": {
   "display_name": "Python 3 (ipykernel)",
   "language": "python",
   "name": "python3"
  },
  "language_info": {
   "codemirror_mode": {
    "name": "ipython",
    "version": 3
   },
   "file_extension": ".py",
   "mimetype": "text/x-python",
   "name": "python",
   "nbconvert_exporter": "python",
   "pygments_lexer": "ipython3",
   "version": "3.10.9"
  }
 },
 "nbformat": 4,
 "nbformat_minor": 5
}
