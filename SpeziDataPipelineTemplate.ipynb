{
 "cells": [
  {
   "cell_type": "markdown",
   "id": "1b4070c1-59f7-474e-8ea1-156cd42ef811",
   "metadata": {},
   "source": [
    "## Import modules\n"
   ]
  },
  {
   "cell_type": "code",
   "execution_count": 1,
   "id": "3da82a85-6035-4757-a666-e56b5f270513",
   "metadata": {
    "tags": []
   },
   "outputs": [],
   "source": [
    "from data_access.firebase_fhir_data_access import *\n",
    "from data_flattening.fhir_resources_flattener import *\n",
    "from data_processing.data_processor import *\n",
    "from data_visualization.data_visualizer import *\n",
    "from data_export.data_exporter import *"
   ]
  },
  {
   "cell_type": "markdown",
   "id": "c3623d09-656a-4abe-a4b9-a433ec86a91c",
   "metadata": {},
   "source": [
    "## Define credential files"
   ]
  },
  {
   "cell_type": "code",
   "execution_count": 2,
   "id": "e844a4e1-1d9e-4c4a-a6a5-46da5b08f17c",
   "metadata": {
    "tags": []
   },
   "outputs": [],
   "source": [
    "# Define your Firebase project ID\n",
    "project_id = \"stanfordspezitemplateapp\" \n",
    "\n",
    "# Define the service account key file\n",
    "service_account_key_file = \"credentials.json\"\n",
    "\n",
    "# Define the collection name where your FHIR observations are stored and the input code if filtering is needed\n",
    "collection_name = \"users\"\n",
    "subcollection_name = \"QuestionnaireResponse\"\n",
    "# loinc_codes = [\"55423-8\"] \n",
    "file_paths = [\n",
    "    \"SocialSupportQuestionnaire.json\"\n",
    "]"
   ]
  },
  {
   "cell_type": "markdown",
   "id": "dee3e7e7-e273-4367-b36b-6a9148ad898f",
   "metadata": {},
   "source": [
    "## Initialize the FirebaseFHIRAccess class using your Firebase credentials"
   ]
  },
  {
   "cell_type": "code",
   "execution_count": 3,
   "id": "62b89662-db30-4976-8ecf-da907b0721ba",
   "metadata": {
    "tags": []
   },
   "outputs": [
    {
     "data": {
      "text/html": [
       "<div>\n",
       "<style scoped>\n",
       "    .dataframe tbody tr th:only-of-type {\n",
       "        vertical-align: middle;\n",
       "    }\n",
       "\n",
       "    .dataframe tbody tr th {\n",
       "        vertical-align: top;\n",
       "    }\n",
       "\n",
       "    .dataframe thead th {\n",
       "        text-align: right;\n",
       "    }\n",
       "</style>\n",
       "<table border=\"1\" class=\"dataframe\">\n",
       "  <thead>\n",
       "    <tr style=\"text-align: right;\">\n",
       "      <th></th>\n",
       "      <th>UserId</th>\n",
       "      <th>SurveyTitle</th>\n",
       "      <th>SurveyID</th>\n",
       "      <th>QuestionID</th>\n",
       "      <th>QuestionText</th>\n",
       "      <th>AnswerText</th>\n",
       "    </tr>\n",
       "  </thead>\n",
       "  <tbody>\n",
       "    <tr>\n",
       "      <th>202</th>\n",
       "      <td>zQEnK526XiVWnNwoAbDFtaLQZg13</td>\n",
       "      <td>Social Support</td>\n",
       "      <td>264FDFBE-0569-4C0E-B9E3-74FFB0F21484</td>\n",
       "      <td>ce09d701-7b93-4150-defb-51825e05ade9</td>\n",
       "      <td>How often do you need someone to take you to t...</td>\n",
       "      <td>None of the time</td>\n",
       "    </tr>\n",
       "    <tr>\n",
       "      <th>203</th>\n",
       "      <td>zQEnK526XiVWnNwoAbDFtaLQZg13</td>\n",
       "      <td>Social Support</td>\n",
       "      <td>264FDFBE-0569-4C0E-B9E3-74FFB0F21484</td>\n",
       "      <td>58e97564-5f4d-4d4b-86d5-6429cbbc7a8e</td>\n",
       "      <td>How often do you need someone to prepare your ...</td>\n",
       "      <td>None of the time</td>\n",
       "    </tr>\n",
       "    <tr>\n",
       "      <th>204</th>\n",
       "      <td>zQEnK526XiVWnNwoAbDFtaLQZg13</td>\n",
       "      <td>Social Support</td>\n",
       "      <td>264FDFBE-0569-4C0E-B9E3-74FFB0F21484</td>\n",
       "      <td>ad161c49-e8a6-4d31-90e8-02b2887a765f</td>\n",
       "      <td>How often do you need someone to help with dai...</td>\n",
       "      <td>None of the time</td>\n",
       "    </tr>\n",
       "    <tr>\n",
       "      <th>205</th>\n",
       "      <td>zQEnK526XiVWnNwoAbDFtaLQZg13</td>\n",
       "      <td>Social Support</td>\n",
       "      <td>264FDFBE-0569-4C0E-B9E3-74FFB0F21484</td>\n",
       "      <td>ba518851-2843-4bbd-c0f7-5b5692d542e0</td>\n",
       "      <td>What is your age?</td>\n",
       "      <td>42</td>\n",
       "    </tr>\n",
       "    <tr>\n",
       "      <th>206</th>\n",
       "      <td>zQEnK526XiVWnNwoAbDFtaLQZg13</td>\n",
       "      <td>Social Support</td>\n",
       "      <td>264FDFBE-0569-4C0E-B9E3-74FFB0F21484</td>\n",
       "      <td>695525f3-3e89-4455-8e25-878171c596da</td>\n",
       "      <td>What is your preferred contact method?</td>\n",
       "      <td>E-mail</td>\n",
       "    </tr>\n",
       "  </tbody>\n",
       "</table>\n",
       "</div>"
      ],
      "text/plain": [
       "                           UserId     SurveyTitle  \\\n",
       "202  zQEnK526XiVWnNwoAbDFtaLQZg13  Social Support   \n",
       "203  zQEnK526XiVWnNwoAbDFtaLQZg13  Social Support   \n",
       "204  zQEnK526XiVWnNwoAbDFtaLQZg13  Social Support   \n",
       "205  zQEnK526XiVWnNwoAbDFtaLQZg13  Social Support   \n",
       "206  zQEnK526XiVWnNwoAbDFtaLQZg13  Social Support   \n",
       "\n",
       "                                 SurveyID  \\\n",
       "202  264FDFBE-0569-4C0E-B9E3-74FFB0F21484   \n",
       "203  264FDFBE-0569-4C0E-B9E3-74FFB0F21484   \n",
       "204  264FDFBE-0569-4C0E-B9E3-74FFB0F21484   \n",
       "205  264FDFBE-0569-4C0E-B9E3-74FFB0F21484   \n",
       "206  264FDFBE-0569-4C0E-B9E3-74FFB0F21484   \n",
       "\n",
       "                               QuestionID  \\\n",
       "202  ce09d701-7b93-4150-defb-51825e05ade9   \n",
       "203  58e97564-5f4d-4d4b-86d5-6429cbbc7a8e   \n",
       "204  ad161c49-e8a6-4d31-90e8-02b2887a765f   \n",
       "205  ba518851-2843-4bbd-c0f7-5b5692d542e0   \n",
       "206  695525f3-3e89-4455-8e25-878171c596da   \n",
       "\n",
       "                                          QuestionText        AnswerText  \n",
       "202  How often do you need someone to take you to t...  None of the time  \n",
       "203  How often do you need someone to prepare your ...  None of the time  \n",
       "204  How often do you need someone to help with dai...  None of the time  \n",
       "205                                  What is your age?                42  \n",
       "206             What is your preferred contact method?            E-mail  "
      ]
     },
     "execution_count": 3,
     "metadata": {},
     "output_type": "execute_result"
    }
   ],
   "source": [
    "firebase_access = FirebaseFHIRAccess(project_id, service_account_key_file)\n",
    "firebase_access.connect()\n",
    "\n",
    "# Fetch FHIR observations from Firestore\n",
    "fhir_observations = firebase_access.fetch_data(collection_name, subcollection_name)\n",
    "\n",
    "# # Flatten the fetched FHIR observations into a FHIRDataFrame\n",
    "flattened_fhir_dataframe = flatten_fhir_resources(fhir_observations, file_paths)\n",
    "flattened_fhir_dataframe.df.tail()"
   ]
  },
  {
   "cell_type": "markdown",
   "id": "43616584-8c5d-4580-baaa-59f25e5f334f",
   "metadata": {},
   "source": [
    "## Apply basic processing for convenient data readability"
   ]
  },
  {
   "cell_type": "code",
   "execution_count": 4,
   "id": "2d878a15-3382-4952-83d2-0507fcff471a",
   "metadata": {},
   "outputs": [
    {
     "ename": "ValueError",
     "evalue": "The DataFrame is missing required columns: SurveyTitle",
     "output_type": "error",
     "traceback": [
      "\u001b[0;31m---------------------------------------------------------------------------\u001b[0m",
      "\u001b[0;31mValueError\u001b[0m                                Traceback (most recent call last)",
      "Cell \u001b[0;32mIn[4], line 1\u001b[0m\n\u001b[0;32m----> 1\u001b[0m processed_fhir_dataframe \u001b[38;5;241m=\u001b[39m \u001b[43mFHIRDataProcessor\u001b[49m\u001b[43m(\u001b[49m\u001b[43m)\u001b[49m\u001b[38;5;241;43m.\u001b[39;49m\u001b[43mprocess_fhir_data\u001b[49m\u001b[43m(\u001b[49m\u001b[43mflattened_fhir_dataframe\u001b[49m\u001b[43m)\u001b[49m\n\u001b[1;32m      2\u001b[0m processed_fhir_dataframe\u001b[38;5;241m.\u001b[39mdf\u001b[38;5;241m.\u001b[39mhead()\n",
      "File \u001b[0;32m~/Downloads/SpeziDataPipelineTemplate/data_processing/data_processor.py:87\u001b[0m, in \u001b[0;36mFHIRDataProcessor.process_fhir_data\u001b[0;34m(self, flattened_fhir_dataframe)\u001b[0m\n\u001b[1;32m     84\u001b[0m     \u001b[38;5;28mprint\u001b[39m(\u001b[38;5;124m\"\u001b[39m\u001b[38;5;124mPlease use a valid FHIRDataFrame.\u001b[39m\u001b[38;5;124m\"\u001b[39m)\n\u001b[1;32m     85\u001b[0m     \u001b[38;5;28;01mreturn\u001b[39;00m \u001b[38;5;28;01mNone\u001b[39;00m\n\u001b[0;32m---> 87\u001b[0m \u001b[38;5;28;01mif\u001b[39;00m \u001b[38;5;129;01mnot\u001b[39;00m \u001b[43mflattened_fhir_dataframe\u001b[49m\u001b[38;5;241;43m.\u001b[39;49m\u001b[43mvalidate_columns\u001b[49m\u001b[43m(\u001b[49m\u001b[43m)\u001b[49m:\n\u001b[1;32m     88\u001b[0m     \u001b[38;5;28mprint\u001b[39m()\n\u001b[1;32m     89\u001b[0m     \u001b[38;5;28;01mreturn\u001b[39;00m \u001b[38;5;28;01mNone\u001b[39;00m\n",
      "File \u001b[0;32m~/Downloads/SpeziDataPipelineTemplate/data_flattening/fhir_resources_flattener.py:217\u001b[0m, in \u001b[0;36mFHIRDataFrame.validate_columns\u001b[0;34m(self)\u001b[0m\n\u001b[1;32m    215\u001b[0m \u001b[38;5;28;01mif\u001b[39;00m missing_columns:\n\u001b[1;32m    216\u001b[0m     formatted_missing_columns \u001b[38;5;241m=\u001b[39m \u001b[38;5;124m\"\u001b[39m\u001b[38;5;124m, \u001b[39m\u001b[38;5;124m\"\u001b[39m\u001b[38;5;241m.\u001b[39mjoin(missing_columns)\n\u001b[0;32m--> 217\u001b[0m     \u001b[38;5;28;01mraise\u001b[39;00m \u001b[38;5;167;01mValueError\u001b[39;00m(\n\u001b[1;32m    218\u001b[0m         \u001b[38;5;124mf\u001b[39m\u001b[38;5;124m\"\u001b[39m\u001b[38;5;124mThe DataFrame is missing required columns: \u001b[39m\u001b[38;5;132;01m{\u001b[39;00mformatted_missing_columns\u001b[38;5;132;01m}\u001b[39;00m\u001b[38;5;124m\"\u001b[39m\n\u001b[1;32m    219\u001b[0m     )\n\u001b[1;32m    221\u001b[0m \u001b[38;5;28;01mif\u001b[39;00m ColumnNames\u001b[38;5;241m.\u001b[39mEFFECTIVE_DATE_TIME\u001b[38;5;241m.\u001b[39mvalue \u001b[38;5;129;01min\u001b[39;00m \u001b[38;5;28mself\u001b[39m\u001b[38;5;241m.\u001b[39mdf\u001b[38;5;241m.\u001b[39mcolumns:\n\u001b[1;32m    222\u001b[0m     \u001b[38;5;28;01mif\u001b[39;00m \u001b[38;5;129;01mnot\u001b[39;00m \u001b[38;5;28mall\u001b[39m(\n\u001b[1;32m    223\u001b[0m         \u001b[38;5;28misinstance\u001b[39m(d, date)\n\u001b[1;32m    224\u001b[0m         \u001b[38;5;28;01mfor\u001b[39;00m d \u001b[38;5;129;01min\u001b[39;00m \u001b[38;5;28mself\u001b[39m\u001b[38;5;241m.\u001b[39mdf[ColumnNames\u001b[38;5;241m.\u001b[39mEFFECTIVE_DATE_TIME\u001b[38;5;241m.\u001b[39mvalue]\n\u001b[1;32m    225\u001b[0m     ):\n",
      "\u001b[0;31mValueError\u001b[0m: The DataFrame is missing required columns: SurveyTitle"
     ]
    }
   ],
   "source": [
    "processed_fhir_dataframe = FHIRDataProcessor().process_fhir_data(flattened_fhir_dataframe)\n",
    "processed_fhir_dataframe.df.head()"
   ]
  },
  {
   "cell_type": "markdown",
   "id": "6e91ed96-c86e-4486-ab28-ef55fdd1947e",
   "metadata": {},
   "source": [
    "## Visualize Data"
   ]
  },
  {
   "cell_type": "code",
   "execution_count": null,
   "id": "5a09ab04-4c93-44dd-b95c-1b825f645b58",
   "metadata": {},
   "outputs": [],
   "source": [
    "visualizer = DataVisualizer()\n",
    "# selected_users = [\"5okimXt6noCIcD4DGoB13wzXVJjY\", \"ys7YzmWeX0tKr1ilsXMiNaiZxGTk\"]  # Use None to plot data for all users\n",
    "visualizer.set_user_ids([\"7uMKVmPZdwgtb9hc6r9YZyYXnwc2\"])\n",
    "# visualizer.set_date_range(\"2024-01-01\", \"2023-03-31\")\n",
    "visualizer.set_y_bounds(0, 120)\n",
    "\n",
    "fig = visualizer.create_static_plot(processed_fhir_dataframe)"
   ]
  },
  {
   "cell_type": "markdown",
   "id": "a91e9dce-e956-4694-8880-cf4508ccd8ae",
   "metadata": {},
   "source": [
    "## Export data"
   ]
  },
  {
   "cell_type": "code",
   "execution_count": null,
   "id": "d1bd3d6a-1aec-4bdc-9325-7c85efba0ff3",
   "metadata": {},
   "outputs": [],
   "source": [
    "exporter = DataExporter(processed_fhir_dataframe)\n",
    "# selected_users = [\"sEmijWpn0vXe1cj60GO5kkjkrdT4\"] \n",
    "# exporter.set_user_ids(selected_users)\n",
    "# exporter.set_date_range(\"2022-01-01\", \"2022-12-31\")\n",
    "# exporter.set_y_bounds(50, 700)\n",
    "exporter.create_and_save_plot(\"data_plot.tif\")"
   ]
  }
 ],
 "metadata": {
  "kernelspec": {
   "display_name": "Python 3 (ipykernel)",
   "language": "python",
   "name": "python3"
  },
  "language_info": {
   "codemirror_mode": {
    "name": "ipython",
    "version": 3
   },
   "file_extension": ".py",
   "mimetype": "text/x-python",
   "name": "python",
   "nbconvert_exporter": "python",
   "pygments_lexer": "ipython3",
   "version": "3.10.10"
  }
 },
 "nbformat": 4,
 "nbformat_minor": 5
}
