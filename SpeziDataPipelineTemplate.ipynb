{
 "cells": [
  {
   "cell_type": "markdown",
   "id": "1b4070c1-59f7-474e-8ea1-156cd42ef811",
   "metadata": {},
   "source": [
    "## Import modules\n"
   ]
  },
  {
   "cell_type": "code",
   "execution_count": 1,
   "id": "3da82a85-6035-4757-a666-e56b5f270513",
   "metadata": {},
   "outputs": [],
   "source": [
    "from spezi_data_pipeline.data_access.firebase_fhir_data_access import FirebaseFHIRAccess\n",
    "from spezi_data_pipeline.data_flattening.fhir_resources_flattener import flatten_fhir_resources, FHIRDataFrame\n",
    "from spezi_data_pipeline.data_processing.data_processor import FHIRDataProcessor\n",
    "from spezi_data_pipeline.data_processing.observation_processor import calculate_activity_index\n",
    "from spezi_data_pipeline.data_exploration.data_explorer import DataExplorer, visualizer_factory, explore_total_records_number\n",
    "from spezi_data_pipeline.data_export.data_exporter import DataExporter"
   ]
  },
  {
   "cell_type": "markdown",
   "id": "c3623d09-656a-4abe-a4b9-a433ec86a91c",
   "metadata": {},
   "source": [
    "## Define credential files"
   ]
  },
  {
   "cell_type": "code",
   "execution_count": 2,
   "id": "e844a4e1-1d9e-4c4a-a6a5-46da5b08f17c",
   "metadata": {
    "tags": []
   },
   "outputs": [],
   "source": [
    "# Define your Firebase project ID\n",
    "project_id = \"spezi-data-pipeline\"  # Replace with your Firebase project ID\n",
    "project_id = \"cs342-2023-paws\"\n",
    "\n",
    "# Define the service account key file\n",
    "service_account_key_file = \"path_to_service_account_key_file.json\"  # Replace with your service account key file\n",
    "service_account_key_file = \"cs342-2023-paws-firebase-adminsdk-cz0fu-444bf65586.json\"\n",
    "\n",
    "# Define the collection name where your FHIR observations are stored and the input code if filtering is needed\n",
    "collection_name = \"users\"\n",
    "subcollection_name = \"HealthKit\"\n",
    "\n",
    "# Define the list of HealthKit quantities to query from Firebase Firestore\n",
    "loinc_codes = [\"55423-8\", \"8867-4\"]\n",
    "# loinc_codes = [\"131328\"]"
   ]
  },
  {
   "cell_type": "markdown",
   "id": "dee3e7e7-e273-4367-b36b-6a9148ad898f",
   "metadata": {},
   "source": [
    "## Initialize the FirebaseFHIRAccess class using your Firebase credentials"
   ]
  },
  {
   "cell_type": "code",
   "execution_count": 3,
   "id": "62b89662-db30-4976-8ecf-da907b0721ba",
   "metadata": {},
   "outputs": [],
   "source": [
    "# Initialize the FirebaseFHIRAccess class using your Firebase credentials\n",
    "firebase_access = FirebaseFHIRAccess(project_id, service_account_key_file)\n",
    "firebase_access.connect()\n",
    "\n",
    "fhir_observations = firebase_access.fetch_data(collection_name, subcollection_name, loinc_codes)\n",
    "\n",
    "flattened_fhir_dataframe = flatten_fhir_resources(fhir_observations)\n",
    "\n",
    "# check before fetching if the loinc_code is supported.\n",
    "# check if ecg and other loinc codes together. ensure ecg is parsed alone. chekc if loinc_codes contains\n",
    "# something else together with ECG len(loinc_codes) = 1"
   ]
  },
  {
   "cell_type": "code",
   "execution_count": 4,
   "id": "495b1d17-6414-4718-870a-2f12d6c9c5b8",
   "metadata": {},
   "outputs": [
    {
     "data": {
      "text/html": [
       "<div>\n",
       "<style scoped>\n",
       "    .dataframe tbody tr th:only-of-type {\n",
       "        vertical-align: middle;\n",
       "    }\n",
       "\n",
       "    .dataframe tbody tr th {\n",
       "        vertical-align: top;\n",
       "    }\n",
       "\n",
       "    .dataframe thead th {\n",
       "        text-align: right;\n",
       "    }\n",
       "</style>\n",
       "<table border=\"1\" class=\"dataframe\">\n",
       "  <thead>\n",
       "    <tr style=\"text-align: right;\">\n",
       "      <th></th>\n",
       "      <th>UserId</th>\n",
       "      <th>ResourceId</th>\n",
       "      <th>EffectiveDateTime</th>\n",
       "      <th>QuantityName</th>\n",
       "      <th>LoincCode</th>\n",
       "      <th>Display</th>\n",
       "      <th>AppleHealthKitCode</th>\n",
       "      <th>QuantityUnit</th>\n",
       "      <th>QuantityValue</th>\n",
       "    </tr>\n",
       "  </thead>\n",
       "  <tbody>\n",
       "    <tr>\n",
       "      <th>0</th>\n",
       "      <td>3EUoHxIuYkWMKcnLfK38nTGOqHn1</td>\n",
       "      <td>0840A317-CD4A-4CA8-9975-96A9B6877116</td>\n",
       "      <td>2024-04-02</td>\n",
       "      <td>Step Count</td>\n",
       "      <td>55423-8</td>\n",
       "      <td>Number of steps in unspecified time Pedometer</td>\n",
       "      <td>HKQuantityTypeIdentifierStepCount</td>\n",
       "      <td>steps</td>\n",
       "      <td>21.0</td>\n",
       "    </tr>\n",
       "    <tr>\n",
       "      <th>1</th>\n",
       "      <td>3EUoHxIuYkWMKcnLfK38nTGOqHn1</td>\n",
       "      <td>17776E12-9FCB-410A-96E7-6F546C83614F</td>\n",
       "      <td>2024-04-02</td>\n",
       "      <td>Step Count</td>\n",
       "      <td>55423-8</td>\n",
       "      <td>Number of steps in unspecified time Pedometer</td>\n",
       "      <td>HKQuantityTypeIdentifierStepCount</td>\n",
       "      <td>steps</td>\n",
       "      <td>25.0</td>\n",
       "    </tr>\n",
       "    <tr>\n",
       "      <th>2</th>\n",
       "      <td>3EUoHxIuYkWMKcnLfK38nTGOqHn1</td>\n",
       "      <td>182B9F13-98F0-4D66-BCF3-05F5F9EB83BE</td>\n",
       "      <td>2024-04-02</td>\n",
       "      <td>Step Count</td>\n",
       "      <td>55423-8</td>\n",
       "      <td>Number of steps in unspecified time Pedometer</td>\n",
       "      <td>HKQuantityTypeIdentifierStepCount</td>\n",
       "      <td>steps</td>\n",
       "      <td>38.0</td>\n",
       "    </tr>\n",
       "    <tr>\n",
       "      <th>3</th>\n",
       "      <td>3EUoHxIuYkWMKcnLfK38nTGOqHn1</td>\n",
       "      <td>2039DD0B-E1F1-4E8D-A748-7331F17DE8D4</td>\n",
       "      <td>2024-04-02</td>\n",
       "      <td>Step Count</td>\n",
       "      <td>55423-8</td>\n",
       "      <td>Number of steps in unspecified time Pedometer</td>\n",
       "      <td>HKQuantityTypeIdentifierStepCount</td>\n",
       "      <td>steps</td>\n",
       "      <td>441.0</td>\n",
       "    </tr>\n",
       "    <tr>\n",
       "      <th>4</th>\n",
       "      <td>3EUoHxIuYkWMKcnLfK38nTGOqHn1</td>\n",
       "      <td>238D6D1A-B370-4C8E-B22D-3484E688143F</td>\n",
       "      <td>2024-04-02</td>\n",
       "      <td>Step Count</td>\n",
       "      <td>55423-8</td>\n",
       "      <td>Number of steps in unspecified time Pedometer</td>\n",
       "      <td>HKQuantityTypeIdentifierStepCount</td>\n",
       "      <td>steps</td>\n",
       "      <td>296.0</td>\n",
       "    </tr>\n",
       "  </tbody>\n",
       "</table>\n",
       "</div>"
      ],
      "text/plain": [
       "                         UserId                            ResourceId  \\\n",
       "0  3EUoHxIuYkWMKcnLfK38nTGOqHn1  0840A317-CD4A-4CA8-9975-96A9B6877116   \n",
       "1  3EUoHxIuYkWMKcnLfK38nTGOqHn1  17776E12-9FCB-410A-96E7-6F546C83614F   \n",
       "2  3EUoHxIuYkWMKcnLfK38nTGOqHn1  182B9F13-98F0-4D66-BCF3-05F5F9EB83BE   \n",
       "3  3EUoHxIuYkWMKcnLfK38nTGOqHn1  2039DD0B-E1F1-4E8D-A748-7331F17DE8D4   \n",
       "4  3EUoHxIuYkWMKcnLfK38nTGOqHn1  238D6D1A-B370-4C8E-B22D-3484E688143F   \n",
       "\n",
       "  EffectiveDateTime QuantityName LoincCode  \\\n",
       "0        2024-04-02   Step Count   55423-8   \n",
       "1        2024-04-02   Step Count   55423-8   \n",
       "2        2024-04-02   Step Count   55423-8   \n",
       "3        2024-04-02   Step Count   55423-8   \n",
       "4        2024-04-02   Step Count   55423-8   \n",
       "\n",
       "                                         Display  \\\n",
       "0  Number of steps in unspecified time Pedometer   \n",
       "1  Number of steps in unspecified time Pedometer   \n",
       "2  Number of steps in unspecified time Pedometer   \n",
       "3  Number of steps in unspecified time Pedometer   \n",
       "4  Number of steps in unspecified time Pedometer   \n",
       "\n",
       "                  AppleHealthKitCode QuantityUnit QuantityValue  \n",
       "0  HKQuantityTypeIdentifierStepCount        steps          21.0  \n",
       "1  HKQuantityTypeIdentifierStepCount        steps          25.0  \n",
       "2  HKQuantityTypeIdentifierStepCount        steps          38.0  \n",
       "3  HKQuantityTypeIdentifierStepCount        steps         441.0  \n",
       "4  HKQuantityTypeIdentifierStepCount        steps         296.0  "
      ]
     },
     "execution_count": 4,
     "metadata": {},
     "output_type": "execute_result"
    }
   ],
   "source": [
    "flattened_fhir_dataframe.df.head()"
   ]
  },
  {
   "cell_type": "code",
   "execution_count": null,
   "id": "c466299d-2b99-4ea9-8a49-7aa57a307a9c",
   "metadata": {},
   "outputs": [],
   "source": [
    "import pandas as pd\n",
    "import matplotlib.pyplot as plt\n",
    "from pandas.plotting import table\n",
    "import textwrap\n",
    "\n",
    "df = processed_fhir_dataframe.df.iloc[0:4,:]\n",
    "# df = flattened_fhir_dataframe.df.iloc[0:4,:]\n",
    "# df[\"ECGRecording\"] = \"data\"\n",
    "\n",
    "fig, ax = plt.subplots(figsize=(12*1.4, 3*1.4)) \n",
    "\n",
    "ax.xaxis.set_visible(False)\n",
    "ax.yaxis.set_visible(False)\n",
    "ax.set_frame_on(False)\n",
    "\n",
    "# Function to wrap text in cells\n",
    "def wrap_text(text, width=10):\n",
    "    return \"\\n\".join(textwrap.wrap(text, width))\n",
    "\n",
    "# Apply text wrapping to the DataFrame\n",
    "wrapped_df = df.applymap(lambda x: wrap_text(str(x)))\n",
    "\n",
    "tbl = table(ax, wrapped_df, loc='center', cellLoc='center', colWidths=[0.2]*len(df.columns))\n",
    "\n",
    "tbl.auto_set_font_size(False)\n",
    "tbl.set_fontsize(12)\n",
    "tbl.scale(1.2, 1.2)\n",
    "\n",
    "for key, cell in tbl.get_celld().items():\n",
    "    cell.set_text_props(ha='center', va='center')\n",
    "    # Adjust the cell height based on the number of lines\n",
    "    lines = str(cell.get_text().get_text()).count('\\n') + 1\n",
    "    cell.set_width(0.2)\n",
    "    cell.set_height(2 * 0.3) \n",
    "\n",
    "\n",
    "# plt.savefig('processed_step_counts_table_image.png', bbox_inches='tight', dpi=300)\n",
    "\n",
    "plt.show()"
   ]
  },
  {
   "cell_type": "markdown",
   "id": "01210300-19f1-4cd6-a820-9864928d2b90",
   "metadata": {},
   "source": [
    "## Explore the number of recordings in the database by LOINC code  "
   ]
  },
  {
   "cell_type": "code",
   "execution_count": null,
   "id": "9de99b98-4b1d-4b35-8e0c-79925b830f60",
   "metadata": {},
   "outputs": [],
   "source": [
    "explore_total_records_number(flattened_fhir_dataframe.df)"
   ]
  },
  {
   "cell_type": "code",
   "execution_count": null,
   "id": "699aac6a-eb36-4d11-8c69-5be274452922",
   "metadata": {},
   "outputs": [],
   "source": [
    "start_date = end_date = user_ids = None\n",
    "df = flattened_fhir_dataframe.df\n",
    "\n",
    "df[\"EffectiveDateTime\"] = pd.to_datetime(df[\"EffectiveDateTime\"])\n",
    "\n",
    "if start_date is not None and end_date is not None:\n",
    "    df = df[\n",
    "        (df[\"EffectiveDateTime\"] >= start_date)\n",
    "        & (df[\"EffectiveDateTime\"] <= end_date)\n",
    "    ]\n",
    "\n",
    "if isinstance(user_ids, str):\n",
    "    user_ids = [user_ids]\n",
    "\n",
    "if user_ids is not None:\n",
    "    df = df[df[\"UserId\"].isin(user_ids)]\n",
    "\n",
    "counts = df.groupby([\"LoincCode\", \"UserId\"]).size().unstack(fill_value=0)\n",
    "\n",
    "fig, ax = plt.subplots(figsize=(16, 8))  # Adjust the size as needed\n",
    "counts.plot(kind=\"bar\", ax=ax)\n",
    "\n",
    "# Set title and labels\n",
    "plt.title(\"Number of records by Loinc code\", fontsize=16)\n",
    "plt.xlabel(\"Loinc code\", fontsize=14)\n",
    "plt.ylabel(\"Count\", fontsize=14)\n",
    "plt.xticks(rotation=45, ha=\"right\", fontsize=12)\n",
    "\n",
    "# Set legend below the plot\n",
    "plt.legend(\n",
    "    title=\"User ID\",\n",
    "    fontsize=12,\n",
    "    title_fontsize=14,\n",
    "    bbox_to_anchor=(0.5, -0.24),  # Adjust this to move the legend closer or further\n",
    "    loc=\"upper center\",\n",
    "    ncol=2\n",
    ")\n",
    "\n",
    "plt.tight_layout()\n",
    "plt.savefig('plot_total_resources.png', bbox_inches='tight', dpi=300)\n",
    "\n",
    "plt.show()\n"
   ]
  },
  {
   "cell_type": "markdown",
   "id": "43616584-8c5d-4580-baaa-59f25e5f334f",
   "metadata": {},
   "source": [
    "## Apply basic processing for convenient data readability"
   ]
  },
  {
   "cell_type": "code",
   "execution_count": null,
   "id": "2d878a15-3382-4952-83d2-0507fcff471a",
   "metadata": {},
   "outputs": [],
   "source": [
    "processed_fhir_dataframe = FHIRDataProcessor().process_fhir_data(flattened_fhir_dataframe)\n",
    "processed_fhir_dataframe.df.head()"
   ]
  },
  {
   "cell_type": "markdown",
   "id": "6e91ed96-c86e-4486-ab28-ef55fdd1947e",
   "metadata": {},
   "source": [
    "## Explore Data"
   ]
  },
  {
   "cell_type": "markdown",
   "id": "f8ddd7a7-25a2-40e1-ac34-c6de3adeb204",
   "metadata": {},
   "source": [
    "### HealthKit Quantity Example"
   ]
  },
  {
   "cell_type": "code",
   "execution_count": null,
   "id": "5a09ab04-4c93-44dd-b95c-1b825f645b58",
   "metadata": {},
   "outputs": [],
   "source": [
    "selected_users = [\"3EUoHxIuYkWMKcnLfK38nTGOqHn1\",\"7uMKVmPZdwgtb9hc6r9YZyYXnwc2\", \"sgsxyilwB3T3xf3LIvkpSajN3NW2\"]\n",
    "selected_start_date = \"2024-02-22\"\n",
    "selected_end_date = \"2024-04-02\"\n",
    "explorer = visualizer_factory(processed_fhir_dataframe)\n",
    "\n",
    "# explorer.set_user_ids(selected_users)\n",
    "# explorer.set_date_range(selected_start_date, selected_end_date)\n",
    "# explorer.set_y_bounds(50, 50000)\n",
    "\n",
    "figs = explorer.create_static_plot(processed_fhir_dataframe)"
   ]
  },
  {
   "cell_type": "markdown",
   "id": "ab1b9dfe-1cfa-4838-bb5a-28989b6211a0",
   "metadata": {},
   "source": [
    "### Calculate Activity Index"
   ]
  },
  {
   "cell_type": "code",
   "execution_count": null,
   "id": "93970c18-acc4-45cf-9d58-495a6c0eb280",
   "metadata": {},
   "outputs": [],
   "source": [
    "activity_index_fhir_dataframe = calculate_activity_index(processed_fhir_dataframe)\n",
    "\n",
    "selected_users = [\"XrftRMc358NndzcRWEQ7P2MxvabZ\"]\n",
    "# selected_users = [\"7uMKVmPZdwgtb9hc6r9YZyYXnwc2\"]\n",
    "explorer = visualizer_factory(activity_index_fhir_dataframe)\n",
    "\n",
    "explorer.set_user_ids(selected_users)\n",
    "# explorer.set_date_range(selected_start_date, selected_end_date)\n",
    "\n",
    "figs = explorer.create_static_plot(activity_index_fhir_dataframe)\n",
    "activity_index_fhir_dataframe.df.head()"
   ]
  },
  {
   "cell_type": "markdown",
   "id": "f6558f0c-8035-40ae-b45c-429109398e44",
   "metadata": {},
   "source": [
    "### ECG Recording Example"
   ]
  },
  {
   "cell_type": "code",
   "execution_count": null,
   "id": "1b908976-582f-42cd-8f86-dd588202ec79",
   "metadata": {},
   "outputs": [],
   "source": [
    "# selected_users = [\"k3BnzOGAO0fIaxkDVXTZKlj3LAu2\", \"3EUoHxIuYkWMKcnLfK38nTGOqHn1\"]\n",
    "\n",
    "# selected_start_date = \"2023-03-13\"\n",
    "# selected_end_date = \"2023-03-13\"\n",
    "\n",
    "# visualizer = visualizer_factory(processed_fhir_dataframe)\n",
    "# visualizer.set_user_ids(selected_users)\n",
    "# visualizer.set_date_range(selected_start_date, selected_end_date)\n",
    "# figs = visualizer.plot_ecg_subplots(processed_fhir_dataframe) "
   ]
  },
  {
   "cell_type": "markdown",
   "id": "a91e9dce-e956-4694-8880-cf4508ccd8ae",
   "metadata": {},
   "source": [
    "## Export data"
   ]
  },
  {
   "cell_type": "code",
   "execution_count": null,
   "id": "d1bd3d6a-1aec-4bdc-9325-7c85efba0ff3",
   "metadata": {},
   "outputs": [],
   "source": [
    "selected_users = [\"sEmijWpn0vXe1cj60GO5kkjkrdT4\"]\n",
    "\n",
    "exporter = DataExporter(processed_fhir_dataframe)\n",
    "# exporter.set_user_ids(selected_users)\n",
    "# exporter.set_date_range(selected_start_date, selected_end_date)\n",
    "# exporter.set_date_range(selected_start_date, selected_start_date)\n",
    "exporter.create_and_save_plot(\"data_plot\") "
   ]
  }
 ],
 "metadata": {
  "kernelspec": {
   "display_name": "Python 3 (ipykernel)",
   "language": "python",
   "name": "python3"
  },
  "language_info": {
   "codemirror_mode": {
    "name": "ipython",
    "version": 3
   },
   "file_extension": ".py",
   "mimetype": "text/x-python",
   "name": "python",
   "nbconvert_exporter": "python",
   "pygments_lexer": "ipython3",
   "version": "3.10.9"
  }
 },
 "nbformat": 4,
 "nbformat_minor": 5
}
