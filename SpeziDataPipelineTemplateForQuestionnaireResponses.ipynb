{
 "cells": [
  {
   "cell_type": "markdown",
   "id": "1b4070c1-59f7-474e-8ea1-156cd42ef811",
   "metadata": {},
   "source": [
    "## Import modules\n"
   ]
  },
  {
   "cell_type": "code",
   "execution_count": null,
   "id": "3da82a85-6035-4757-a666-e56b5f270513",
   "metadata": {},
   "outputs": [],
   "source": [
    "from spezi_data_pipeline.data_access.firebase_fhir_data_access import FirebaseFHIRAccess, FHIRResourceType\n",
    "from spezi_data_pipeline.data_flattening.fhir_resources_flattener import extract_questionnaire_mappings, flatten_fhir_resources, FHIRDataFrame, QuestionnaireResponseFlattener\n",
    "from spezi_data_pipeline.data_processing.data_processor import FHIRDataProcessor\n",
    "from spezi_data_pipeline.data_processing.questionnaire_processor import calculate_risk_score\n",
    "from spezi_data_pipeline.data_exploration.data_explorer import DataExplorer, visualizer_factory, explore_total_records_number\n",
    "from spezi_data_pipeline.data_export.data_exporter import DataExporter"
   ]
  },
  {
   "cell_type": "markdown",
   "id": "c3623d09-656a-4abe-a4b9-a433ec86a91c",
   "metadata": {},
   "source": [
    "## Define credential files"
   ]
  },
  {
   "cell_type": "code",
   "execution_count": null,
   "id": "e844a4e1-1d9e-4c4a-a6a5-46da5b08f17c",
   "metadata": {
    "tags": []
   },
   "outputs": [],
   "source": [
    "# Define your Firebase project ID\n",
    "project_id = \"spezi-data-pipeline\"  # Replace with your Firebase project ID\n",
    "\n",
    "# Define the service account key file\n",
    "service_account_key_file = \"path_to_service_account_key_file.json\"  # Replace with your service account key file\n",
    "\n",
    "# Define the collection name where your FHIR observations are stored and the input code if filtering is needed\n",
    "collection_name = \"users\"\n",
    "subcollection_name = \"QuestionnaireResponse\"\n",
    "\n",
    "# Define the survey path for creating questionnaire mappings\n",
    "questionnaire_resource_path = \"path_to_the_questionnaire_resource_file.json\""
   ]
  },
  {
   "cell_type": "markdown",
   "id": "dee3e7e7-e273-4367-b36b-6a9148ad898f",
   "metadata": {},
   "source": [
    "## Initialize the FirebaseFHIRAccess class using your Firebase credentials"
   ]
  },
  {
   "cell_type": "code",
   "execution_count": null,
   "id": "62b89662-db30-4976-8ecf-da907b0721ba",
   "metadata": {},
   "outputs": [],
   "source": [
    "# Initialize the FirebaseFHIRAccess class using your Firebase credentials\n",
    "firebase_access = FirebaseFHIRAccess(project_id, service_account_key_file)\n",
    "firebase_access.connect()\n",
    "\n",
    "fhir_questionnaires = firebase_access.fetch_data(collection_name, subcollection_name)\n",
    "\n",
    "flattened_fhir_dataframe = flatten_fhir_resources(fhir_questionnaires, questionnaire_path)"
   ]
  },
  {
   "cell_type": "code",
   "execution_count": null,
   "id": "cc4148b9-5c8e-4ea3-89b6-6999f1d72c3a",
   "metadata": {},
   "outputs": [],
   "source": [
    "flattened_fhir_dataframe.df.head(15)"
   ]
  },
  {
   "cell_type": "markdown",
   "id": "6e91ed96-c86e-4486-ab28-ef55fdd1947e",
   "metadata": {},
   "source": [
    "## Explore Data"
   ]
  },
  {
   "cell_type": "markdown",
   "id": "a91e9dce-e956-4694-8880-cf4508ccd8ae",
   "metadata": {},
   "source": [
    "## Export data"
   ]
  },
  {
   "cell_type": "code",
   "execution_count": null,
   "id": "d1bd3d6a-1aec-4bdc-9325-7c85efba0ff3",
   "metadata": {},
   "outputs": [],
   "source": [
    "exporter = DataExporter(flattened_fhir_dataframe)\n",
    "exporter.export_to_csv(\"survey_data.csv\") "
   ]
  },
  {
   "cell_type": "markdown",
   "id": "dea043c0-9129-47ba-ab54-0978c374bbcb",
   "metadata": {},
   "source": [
    "# PHQ-9 example"
   ]
  },
  {
   "cell_type": "code",
   "execution_count": null,
   "id": "26c38af1-e416-475c-8cca-cd675d7bc997",
   "metadata": {},
   "outputs": [],
   "source": [
    "import json\n",
    "import numpy as np\n",
    "from fhir.resources.bundle import Bundle\n",
    "from fhir.resources.questionnaireresponse import QuestionnaireResponse\n",
    "\n",
    "def load_bundle_from_json(file_path: str) -> Bundle:\n",
    "    with open(file_path, 'r', encoding='utf-8') as f:\n",
    "        json_content = json.load(f)\n",
    "    try:\n",
    "        bundle = Bundle.parse_obj(json_content)\n",
    "    except FHIRValidationError as e:\n",
    "        print(f\"Failed to parse Bundle: {e}\")\n",
    "        bundle = None\n",
    "    return bundle\n",
    "\n",
    "def extract_questionnaire_responses(bundle: Bundle) -> list:\n",
    "    questionnaire_responses = []\n",
    "    for entry in bundle.entry:\n",
    "        if entry.resource.resource_type == \"QuestionnaireResponse\":\n",
    "            try:\n",
    "                qr = QuestionnaireResponse.parse_obj(entry.resource.dict())\n",
    "                questionnaire_responses.append(qr)\n",
    "            except FHIRValidationError as e:\n",
    "                print(f\"Failed to parse QuestionnaireResponse: {e}\")\n",
    "    return questionnaire_responses\n",
    "\n",
    "file_path = 'sample_data/phq9responses.json'\n",
    "\n",
    "bundle = load_bundle_from_json(file_path)\n",
    "\n",
    "if bundle:\n",
    "    questionnaire_responses = extract_questionnaire_responses(bundle)\n",
    "    survey_path = 'Resources/PHQ-9.json'\n",
    "    flattener = QuestionnaireResponseFlattener()\n",
    "    \n",
    "    flattened_fhir_dataframe = flattener.flatten(questionnaire_responses, survey_path)\n",
    "\n",
    "flattened_fhir_dataframe.df.tail()"
   ]
  },
  {
   "cell_type": "markdown",
   "id": "3e3be2f4-a0ae-4b3f-bb30-cded80beb00a",
   "metadata": {},
   "source": [
    "## Calculate risk score"
   ]
  },
  {
   "cell_type": "code",
   "execution_count": null,
   "id": "9dc610de-cfca-4b1f-ab08-34116fc7274d",
   "metadata": {},
   "outputs": [],
   "source": [
    "questionnaire_title = \"PHQ-9\"\n",
    "flattened_fhir_dataframe_with_score = calculate_risk_score(flattened_fhir_dataframe, questionnaire_title)\n",
    "\n",
    "random_user_ids = np.random.randint(100000, 999999, size=len(flattened_fhir_dataframe_with_score.df))\n",
    "flattened_fhir_dataframe_with_score.df['UserId'] = random_user_ids\n",
    "flattened_fhir_dataframe_with_score.df['ResourceId'] = random_user_ids\n",
    "flattened_fhir_dataframe_with_score.df"
   ]
  },
  {
   "cell_type": "code",
   "execution_count": null,
   "id": "cd43029c-dd32-4a03-9208-d99aa9f071f6",
   "metadata": {},
   "outputs": [],
   "source": [
    "explorer = visualizer_factory(flattened_fhir_dataframe_with_score, questionnaire_title=\"PHQ-9\")\n",
    "# explorer.set_user_ids([\"User1\", \"User2\"])\n",
    "# explorer.set_date_range(\"2023-01-13\", \"2023-02-16\")\n",
    "fig = explorer.create_score_plot(flattened_fhir_dataframe_with_score)"
   ]
  }
 ],
 "metadata": {
  "kernelspec": {
   "display_name": "Python 3 (ipykernel)",
   "language": "python",
   "name": "python3"
  },
  "language_info": {
   "codemirror_mode": {
    "name": "ipython",
    "version": 3
   },
   "file_extension": ".py",
   "mimetype": "text/x-python",
   "name": "python",
   "nbconvert_exporter": "python",
   "pygments_lexer": "ipython3",
   "version": "3.10.9"
  }
 },
 "nbformat": 4,
 "nbformat_minor": 5
}
