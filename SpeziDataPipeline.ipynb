{
 "cells": [
  {
   "cell_type": "markdown",
   "id": "1b4070c1-59f7-474e-8ea1-156cd42ef811",
   "metadata": {},
   "source": [
    "# Step 1: Import necessary libraries\n"
   ]
  },
  {
   "cell_type": "code",
   "execution_count": 1,
   "id": "3da82a85-6035-4757-a666-e56b5f270513",
   "metadata": {},
   "outputs": [],
   "source": [
    "import firebase_admin\n",
    "from firebase_admin import credentials, db, firestore\n"
    "import requests"
   ]
  },
  {
   "cell_type": "markdown",
   "id": "675bce8c-450c-419f-a755-afd21389c996",
   "metadata": {},
   "source": [
    "## Import the helpers.py file to our working directory"
   ]
  },
  {
   "cell_type": "code",
   "execution_count": null,
   "id": "edcac52d-8b5d-4919-ba46-36045edcc377",
   "metadata": {},
   "outputs": [],
   "source": [
    "# url = 'https://raw.githubusercontent.com/StanfordSpezi/SpeziDataPipeline/main/helpers.py'\n",
    "\n",
    "# # Send a GET request to the URL\n",
    "# r = requests.get(url)\n",
    "\n",
    "# # Open a file and write the contents of the response\n",
    "# with open('helpers.py', 'wb') as f:\n",
    "#     f.write(r.content)\n",
    "\n",
    "from helpers import *"
   ]
  },
  {
   "cell_type": "markdown",
   "id": "c3623d09-656a-4abe-a4b9-a433ec86a91c",
   "metadata": {},
   "source": [
    "# Step 2: Establish Connection to Firebase\n"
   ]
  },
  {
   "cell_type": "code",
   "execution_count": null,
   "id": "e844a4e1-1d9e-4c4a-a6a5-46da5b08f17c",
   "metadata": {},
   "outputs": [],
   "source": [
    "# Define the path to your service account key file\n",
    "serviceAccountKey_file = 'path/to/serviceAccountKey.json' # This file contains your Firebase project's credentials\n",
    "\n",
    "# Define your Firebase project ID\n",
    "project_id = 'projectId' \n",
    "\n",
    "# Define the name of the Firestore collection you want to work with\n",
    "collection_name = 'users'\n",
    "\n",
    "# Check if a Firebase app has already been initialized to prevent reinitialization\n",
    "# The firebase_admin._apps is a dictionary holding initialized apps, and if it's empty, it means no app is initialized\n",
    "if not firebase_admin._apps:\n",
    "    # Load your service account credentials from the specified file\n",
    "    # These credentials allow your application to authenticate with Firebase\n",
    "    cred = credentials.Certificate(serviceAccountKey_file)\n",
    "    \n",
    "    # Initialize your Firebase app with the credentials\n",
    "    # This step is necessary to interact with Firebase services, including Firestore\n",
    "    firebase_admin.initialize_app(cred)\n",
    "\n",
    "# Create a Firestore client instance\n",
    "# This object allows you to interact with your Firestore database, such as querying or updating documents\n",
    "db = firestore.client()"
   ]
  },
  {
   "cell_type": "markdown",
   "id": "425d2852-a510-4dc0-a90c-b49cd269f9f4",
   "metadata": {},
   "source": [
    "# Step 3: Access Data on Firestore"
   ]
  },
  {
   "cell_type": "markdown",
   "id": "6a8c904a-2d6b-4216-afd6-0fdd739421e4",
   "metadata": {},
   "source": [
    "## Print Users Summary"
   ]
  },
  {
   "cell_type": "code",
   "execution_count": null,
   "id": "dc69d5fe-b231-4c6b-94b8-16c2f5e13b13",
   "metadata": {},
   "outputs": [],
   "source": [
    "users = export_users_to_csv(db, collection_name, 'users_summary.csv')\n",
    "users.head()"
   ]
  },
  {
   "cell_type": "markdown",
   "id": "c8af7d21-4005-44a0-9133-83f3e4999a41",
   "metadata": {},
   "source": [
    "## Get data from a single HealthKit document of a user"
   ]
  },
  {
   "cell_type": "code",
   "execution_count": null,
   "id": "4e317538-ff47-4cd5-9600-954bd9e31475",
   "metadata": {},
   "outputs": [],
   "source": [
    "# Reference to the specified document\n",
    "doc_ref = db.collection('users')\\\n",
    "    .document('Du3CdrAooIL4sDQajeOt9j0HlPyK')\\\n",
    "    .collection('HealthKit')\\\n",
    "    .document('0960a652-602e-47aa-8381-955d95581922')\n",
    "\n",
    "doc = doc_ref.get()\n",
    "\n",
    "if doc.exists:\n",
    "    doc_dict = doc.to_dict()\n",
    "    print(doc_dict)\n",
    "else:\n",
    "    print(\"Document not found.\")"
   ]
  },
  {
   "cell_type": "markdown",
   "id": "e51e6fb4-6b38-43bf-854d-8ea0b1285e65",
   "metadata": {},
   "source": [
    "## Explore Data Quantity Types in the Database"
   ]
  },
  {
   "cell_type": "code",
   "execution_count": null,
   "id": "cf179c80-22fd-431d-ba9e-8af738f42eb5",
   "metadata": {},
   "outputs": [],
   "source": [
    "unique_loinc_codes, display_to_loinc_dict = get_unique_codes_and_displays(db, collection_name)\n",
    "print(display_to_loinc_dict)"
   ]
  },
  {
   "cell_type": "markdown",
   "id": "fadff7a1-c34e-4c11-b0bc-1cab5e9a7a29",
   "metadata": {},
   "source": [
    "## Fetch and flatten for a selected data type for all users"
   ]
  },
  {
   "cell_type": "code",
   "execution_count": null,
   "id": "76962068-a60f-4587-8cca-512ff89e244c",
   "metadata": {},
   "outputs": [],
   "source": [
    "selected_code = '55423-8'\n",
    "\n",
    "flattened_df = fetch_and_flatten_data(db, collection_name, selected_code)   "
   ]
  },
  {
   "cell_type": "code",
   "execution_count": null,
   "id": "1b2afd88-10fc-4213-b267-773cca6e5ef6",
   "metadata": {},
   "outputs": [],
   "source": [
    "flattened_df.head()"
   ]
  },
  {
   "cell_type": "markdown",
   "id": "43b810f4-7001-4062-9f28-541e97528853",
   "metadata": {},
   "source": [
    "# Step 4: Analyze data"
   ]
  },
  {
   "cell_type": "markdown",
   "id": "c5d5d3ec-0100-4305-9a59-779302e15706",
   "metadata": {},
   "source": [
    "## Filter data by removing values outside a predefined range/threshold"
   ]
  },
  {
   "cell_type": "code",
   "execution_count": null,
   "id": "e627901c-f465-4dbd-945e-35ace2db24af",
   "metadata": {},
   "outputs": [],
   "source": [
    "filtered_df = remove_outliers(flattened_df)       "
   ]
  },
  {
   "cell_type": "markdown",
   "id": "ab01cf7b-623d-4f56-857f-bb16e4973926",
   "metadata": {},
   "source": [
    "## Aggregate data by date for each user"
   ]
  },
  {
   "cell_type": "code",
   "execution_count": null,
   "id": "b3fca1d1-7540-4b8b-a6ba-1e75a2e80d62",
   "metadata": {},
   "outputs": [],
   "source": [
    "daily_df = calculate_daily_data(filtered_df, save_as_csv=True) "
   ]
  },
  {
   "cell_type": "code",
   "execution_count": null,
   "id": "a68ba836-3f77-4a66-90f6-ec781aad13ea",
   "metadata": {},
   "outputs": [],
   "source": [
    "daily_df.head()"
   ]
  },
  {
   "cell_type": "markdown",
   "id": "4ed7f266-cc73-49e2-8a0e-afa4c7dc26db",
   "metadata": {},
   "source": [
    "# Plot data for a selected user and export figure"
   ]
  },
  {
   "cell_type": "code",
   "execution_count": null,
   "id": "e2611c9e-b97d-43b9-998c-629be6948828",
   "metadata": {},
   "outputs": [],
   "source": [
    "selected_user = '5okimXt6noCIcD4DGoB13wzXVJjY'\n",
    "plot_and_export_data(daily_df, date1=None, date2=None, user_id=selected_user, y_lower=None, y_upper=None, same_plot=True, save_as_tif=True)"
   ]
  },
  {
   "cell_type": "markdown",
   "id": "a814801f-de36-4b23-b753-3ee7ff0a68fb",
   "metadata": {},
   "source": [
    "# Single-line code option: analyze_data() func"
   ]
  },
  {
   "cell_type": "code",
   "execution_count": null,
   "id": "638ec1d4-c2e4-47d3-8a72-a40fd9bcda93",
   "metadata": {},
   "outputs": [],
   "source": [
    "flattened_data, filtered_data, daily_data = analyze_data(db, collection_name)"
   ]
  },
  {
   "cell_type": "code",
   "execution_count": null,
   "id": "b6d88fa6-6313-4442-bca3-f39eb4af498c",
   "metadata": {},
   "outputs": [],
   "source": [
    "daily_data['daily_df_HKQuantityTypeIdentifierDietaryProtein'].head()"
   ]
  },
  {
   "cell_type": "markdown",
   "id": "6e91ed96-c86e-4486-ab28-ef55fdd1947e",
   "metadata": {},
   "source": [
    "# Visualize Data"
   ]
  },
  {
   "cell_type": "code",
   "execution_count": null,
   "id": "5a09ab04-4c93-44dd-b95c-1b825f645b58",
   "metadata": {},
   "outputs": [],
   "source": [
    "vizualize_data(daily_data)"
   ]
  }
 ],
 "metadata": {
  "kernelspec": {
   "display_name": "Python 3 (ipykernel)",
   "language": "python",
   "name": "python3"
  },
  "language_info": {
   "codemirror_mode": {
    "name": "ipython",
    "version": 3
   },
   "file_extension": ".py",
   "mimetype": "text/x-python",
   "name": "python",
   "nbconvert_exporter": "python",
   "pygments_lexer": "ipython3",
   "version": "3.7.16"
  }
 },
 "nbformat": 4,
 "nbformat_minor": 5
}
