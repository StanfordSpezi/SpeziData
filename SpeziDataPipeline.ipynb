{
 "cells": [
  {
   "cell_type": "markdown",
   "id": "1b4070c1-59f7-474e-8ea1-156cd42ef811",
   "metadata": {},
   "source": [
    "# Step 1: Import necessary libraries\n"
   ]
  },
  {
   "cell_type": "code",
   "execution_count": null,
   "id": "3da82a85-6035-4757-a666-e56b5f270513",
   "metadata": {},
   "outputs": [],
   "source": [
    "import firebase_admin\n",
    "from firebase_admin import credentials, db, firestore\n",
    "import pickle\n",
    "\n",
    "from helpers import *"
   ]
  },
  {
   "cell_type": "markdown",
   "id": "c3623d09-656a-4abe-a4b9-a433ec86a91c",
   "metadata": {},
   "source": [
    "# Step 2: Establish Connection to Firebase\n"
   ]
  },
  {
   "cell_type": "code",
   "execution_count": null,
   "id": "e844a4e1-1d9e-4c4a-a6a5-46da5b08f17c",
   "metadata": {},
   "outputs": [],
   "source": [
    "serviceAccountKey_file = 'serviceAccountKey_files/cs342-2024-example-application-firebase-adminsdk-z4ske-800739b1af.json'\n",
    "project_id = 'cs342-2024-example-application'\n",
    "collection_name = 'users'\n",
    "\n",
    "if not firebase_admin._apps:\n",
    "    cred = credentials.Certificate(serviceAccountKey_file)\n",
    "    firebase_admin.initialize_app(cred)\n",
    "\n",
    "db = firestore.client()"
   ]
  },
  {
   "cell_type": "markdown",
   "id": "425d2852-a510-4dc0-a90c-b49cd269f9f4",
   "metadata": {},
   "source": [
    "# Step 3: Access Data on Firebase"
   ]
  },
  {
   "cell_type": "markdown",
   "id": "6a8c904a-2d6b-4216-afd6-0fdd739421e4",
   "metadata": {},
   "source": [
    "## Print Users Summary"
   ]
  },
  {
   "cell_type": "code",
   "execution_count": null,
   "id": "dc69d5fe-b231-4c6b-94b8-16c2f5e13b13",
   "metadata": {},
   "outputs": [],
   "source": [
    "users = export_users_to_csv(db, collection_name, 'users_summary.csv')\n",
    "users.head()"
   ]
  },
  {
   "cell_type": "markdown",
   "id": "e51e6fb4-6b38-43bf-854d-8ea0b1285e65",
   "metadata": {},
   "source": [
    "## Explore Data Types in the Database"
   ]
  },
  {
   "cell_type": "code",
   "execution_count": null,
   "id": "cf179c80-22fd-431d-ba9e-8af738f42eb5",
   "metadata": {},
   "outputs": [],
   "source": [
    "unique_loinc_codes, display_to_loinc_dict = get_unique_codes_and_displays(db, collection_name)\n",
    "print(display_to_loinc_dict)"
   ]
  },
  {
   "cell_type": "markdown",
   "id": "c0324030-2777-44bf-942c-92bf00b59b7a",
   "metadata": {},
   "source": [
    "# Step 4: Analyze data"
   ]
  },
  {
   "cell_type": "markdown",
   "id": "fadff7a1-c34e-4c11-b0bc-1cab5e9a7a29",
   "metadata": {},
   "source": [
    "## Fetch and flatten for selected code for all documents (users) in the \"users\" collection"
   ]
  },
  {
   "cell_type": "code",
   "execution_count": null,
   "id": "76962068-a60f-4587-8cca-512ff89e244c",
   "metadata": {},
   "outputs": [],
   "source": [
    "selected_code = '9052-2'\n",
    "\n",
    "flattened_df = fetch_and_flatten_data(db, collection_name, selected_code)   "
   ]
  },
  {
   "cell_type": "code",
   "execution_count": null,
   "id": "1b2afd88-10fc-4213-b267-773cca6e5ef6",
   "metadata": {},
   "outputs": [],
   "source": [
    "flattened_df.head()"
   ]
  },
  {
   "cell_type": "markdown",
   "id": "c5d5d3ec-0100-4305-9a59-779302e15706",
   "metadata": {},
   "source": [
    "## Filter data by removing values outside a predefined range/threshold"
   ]
  },
  {
   "cell_type": "code",
   "execution_count": null,
   "id": "e627901c-f465-4dbd-945e-35ace2db24af",
   "metadata": {},
   "outputs": [],
   "source": [
    "filtered_df = remove_outliers(flattened_df)       "
   ]
  },
  {
   "cell_type": "markdown",
   "id": "ab01cf7b-623d-4f56-857f-bb16e4973926",
   "metadata": {},
   "source": [
    "## Aggregate data by date for each user"
   ]
  },
  {
   "cell_type": "code",
   "execution_count": null,
   "id": "b3fca1d1-7540-4b8b-a6ba-1e75a2e80d62",
   "metadata": {},
   "outputs": [],
   "source": [
    "daily_df = calculate_daily_data(filtered_df, save_as_csv=True) "
   ]
  },
  {
   "cell_type": "code",
   "execution_count": null,
   "id": "a68ba836-3f77-4a66-90f6-ec781aad13ea",
   "metadata": {},
   "outputs": [],
   "source": [
    "daily_df.head()"
   ]
  },
  {
   "cell_type": "markdown",
   "id": "a814801f-de36-4b23-b753-3ee7ff0a68fb",
   "metadata": {},
   "source": [
    "# Single-code line option: analyze_data() func"
   ]
  },
  {
   "cell_type": "code",
   "execution_count": null,
   "id": "638ec1d4-c2e4-47d3-8a72-a40fd9bcda93",
   "metadata": {},
   "outputs": [],
   "source": [
    "flattened_data, filtered_data, daily_data = analyze_data(db, collection_name)"
   ]
  },
  {
   "cell_type": "markdown",
   "id": "6e91ed96-c86e-4486-ab28-ef55fdd1947e",
   "metadata": {},
   "source": [
    "# Visualize Data"
   ]
  },
  {
   "cell_type": "code",
   "execution_count": null,
   "id": "5a09ab04-4c93-44dd-b95c-1b825f645b58",
   "metadata": {},
   "outputs": [],
   "source": [
    "vizualize_data(daily_data)"
   ]
  }
 ],
 "metadata": {
  "kernelspec": {
   "display_name": "Python 3 (ipykernel)",
   "language": "python",
   "name": "python3"
  },
  "language_info": {
   "codemirror_mode": {
    "name": "ipython",
    "version": 3
   },
   "file_extension": ".py",
   "mimetype": "text/x-python",
   "name": "python",
   "nbconvert_exporter": "python",
   "pygments_lexer": "ipython3",
   "version": "3.7.16"
  }
 },
 "nbformat": 4,
 "nbformat_minor": 5
}
